{
 "cells": [
  {
   "cell_type": "markdown",
   "metadata": {},
   "source": [
    "Use any additional libraries you want, but if you don't explicitly code stuff that I have explicitly asked you to code, you will not get marks."
   ]
  },
  {
   "cell_type": "markdown",
   "metadata": {},
   "source": [
    "### Q1. Kernel k-means\n",
    "\n",
    "Let's try and end our course on a happy note. The smiley dataset you see below is made up of many clusters of points. "
   ]
  },
  {
   "cell_type": "code",
   "execution_count": 13,
   "metadata": {},
   "outputs": [],
   "source": [
    "import numpy as np\n",
    "import numpy.linalg as lin\n",
    "import numpy.random as rnd\n",
    "from matplotlib import pyplot as plt\n",
    "\n",
    "\n",
    "def getFigure( sizex = 7, sizey = 7 ):\n",
    "    fig = plt.figure( figsize = (sizex, sizey) )\n",
    "    return fig\n",
    "\n",
    "def plot2D( X, fig, color = 'r', marker = '+', size = 100, empty = False ):\n",
    "    plt.figure( fig.number )\n",
    "    if empty:\n",
    "        plt.scatter( X[:,0], X[:,1], s = size, facecolors = 'none', edgecolors = color, marker = marker  )\n",
    "    else:\n",
    "        plt.scatter( X[:,0], X[:,1], s = size, c = color, marker = marker )\n",
    "\n",
    "\n",
    "def genCrescentData( d, n, mu, r, flipped = False ):\n",
    "    X = np.vstack( (np.cos( np.linspace( 0, np.pi, n ) ), np.sin( np.linspace( 0, np.pi, n ) ) ) ).T\n",
    "    if flipped:\n",
    "        X[:,1] = -np.abs( X[:,1] )\n",
    "    else:\n",
    "        X[:,1] = np.abs( X[:,1] )\n",
    "    X = (X * r) + mu\n",
    "    return X\n",
    "\n",
    "def genSphericalData( d, n, mu, r ):\n",
    "    X = rnd.normal( 0, 1, (n, d) )\n",
    "    norms = lin.norm( X, axis = 1 )\n",
    "    X = X / norms[:, np.newaxis]\n",
    "    X = (X * r) + mu\n",
    "    return X"
   ]
  },
  {
   "cell_type": "code",
   "execution_count": 14,
   "metadata": {},
   "outputs": [],
   "source": [
    "d = 2\n",
    "n = 200\n",
    "\n",
    "mu1 = np.array( [0,0] )\n",
    "mu2 = np.array( [0,1] )\n",
    "mu3 = np.array( [0,0] )\n",
    "mu4 = np.array( [-3,5] )\n",
    "mu5 = np.array( [3,5] )\n",
    "\n",
    "tmp1 = genCrescentData( d, n, mu1, 1 )\n",
    "tmp2 = genCrescentData( d, n, mu2, 5, flipped = True )\n",
    "tmp3 = genSphericalData( d, n, mu3, 10 )\n",
    "tmp4 = genSphericalData( d, n, mu4, 1 )\n",
    "tmp5 = genSphericalData( d, n, mu5, 1 )\n",
    "X = np.vstack( (tmp1, tmp2, tmp3, tmp4, tmp5) )"
   ]
  },
  {
   "cell_type": "code",
   "execution_count": 15,
   "metadata": {},
   "outputs": [
    {
     "data": {
      "image/png": "[encoded data removed]",
      "text/plain": [
       "<Figure size 576x576 with 1 Axes>"
      ]
     },
     "metadata": {
      "needs_background": "light"
     },
     "output_type": "display_data"
    }
   ],
   "source": [
    "fig = getFigure( 8, 8 )\n",
    "plot2D( X, fig, size = 50, color = 'b', marker = 'o' )"
   ]
  },
  {
   "cell_type": "markdown",
   "metadata": {},
   "source": [
    "(a) Can you implement the k-means algorithm to cluster this dataset? Visualize your output. [10 points] "
   ]
  },
  {
   "cell_type": "markdown",
   "metadata": {},
   "source": [
    "#### using sklearn(K=4)"
   ]
  },
  {
   "cell_type": "code",
   "execution_count": 16,
   "metadata": {},
   "outputs": [
    {
     "data": {
      "text/plain": [
       "(1000, 2)"
      ]
     },
     "execution_count": 16,
     "metadata": {},
     "output_type": "execute_result"
    }
   ],
   "source": [
    "X.shape"
   ]
  },
  {
   "cell_type": "code",
   "execution_count": 17,
   "metadata": {},
   "outputs": [],
   "source": [
    "from sklearn.cluster import KMeans"
   ]
  },
  {
   "cell_type": "code",
   "execution_count": 18,
   "metadata": {},
   "outputs": [],
   "source": [
    "model=KMeans(n_clusters=4,verbose=False,init='k-means++')"
   ]
  },
  {
   "cell_type": "code",
   "execution_count": 19,
   "metadata": {},
   "outputs": [],
   "source": [
    "labels=(model.fit_predict(X))"
   ]
  },
  {
   "cell_type": "markdown",
   "metadata": {},
   "source": [
    "#### implementation from scratch"
   ]
  },
  {
   "cell_type": "code",
   "execution_count": 20,
   "metadata": {},
   "outputs": [],
   "source": [
    "'''\n",
    "func to plot 2D data with cluster IDs\n",
    "Input:\n",
    "data_2d: Data points in 2D :: If higher dim then can give PCA(2) applied data\n",
    "labels: cluster IDs array\n",
    "n_cluster: no of clusters; default = 4\n",
    "Output:\n",
    "plots a 2D scatter map with legend\n",
    "'''\n",
    "def plot_clusters(data_2d,labels,n_cluster=4):\n",
    "    # filter rows of original data\n",
    "    # for label in labels:\n",
    "    fig = plt.figure( figsize = (8, 8) )\n",
    "    plt.figure(fig.number)\n",
    "    for cluster in range(n_cluster):\n",
    "        label0 = data_2d[labels == cluster]\n",
    "        plt.scatter(label0[:,0] , label0[:,1],label=cluster)\n",
    "    plt.legend(fontsize='small')\n",
    "    plt.show()"
   ]
  },
  {
   "cell_type": "code",
   "execution_count": 21,
   "metadata": {},
   "outputs": [],
   "source": [
    "# to get max float point from system\n",
    "import sys"
   ]
  },
  {
   "cell_type": "code",
   "execution_count": 22,
   "metadata": {},
   "outputs": [
    {
     "data": {
      "text/plain": [
       "array([], shape=(0, 2), dtype=int64)"
      ]
     },
     "execution_count": 22,
     "metadata": {},
     "output_type": "execute_result"
    }
   ],
   "source": [
    "a=np.array([[1,2],[3,4]])\n",
    "np.delete(a,[0,1],axis=0)"
   ]
  },
  {
   "cell_type": "code",
   "execution_count": 23,
   "metadata": {},
   "outputs": [
    {
     "data": {
      "text/plain": [
       "array([[0.00000000e+00, 0.00000000e+00],\n",
       "       [1.55277723e-08, 2.49205437e-04],\n",
       "       [2.48413399e-07, 9.96573334e-04],\n",
       "       ...,\n",
       "       [2.03657704e+00, 3.38679318e+01],\n",
       "       [1.75224471e+00, 1.81761689e+01],\n",
       "       [1.26486347e+00, 3.00688885e+01]])"
      ]
     },
     "execution_count": 23,
     "metadata": {},
     "output_type": "execute_result"
    }
   ],
   "source": [
    "np.sqrt((X-X[0,])**2)**2"
   ]
  },
  {
   "cell_type": "code",
   "execution_count": 24,
   "metadata": {},
   "outputs": [
    {
     "data": {
      "text/plain": [
       "997"
      ]
     },
     "execution_count": 24,
     "metadata": {},
     "output_type": "execute_result"
    }
   ],
   "source": [
    "len(np.delete(X,[0,1,999],axis=0))"
   ]
  },
  {
   "cell_type": "code",
   "execution_count": 25,
   "metadata": {},
   "outputs": [],
   "source": [
    "c=np.sum(X,axis=1)"
   ]
  },
  {
   "cell_type": "code",
   "execution_count": 26,
   "metadata": {},
   "outputs": [
    {
     "data": {
      "text/plain": [
       "1720.1115879531274"
      ]
     },
     "execution_count": 26,
     "metadata": {},
     "output_type": "execute_result"
    }
   ],
   "source": [
    "np.sum(c)"
   ]
  },
  {
   "cell_type": "code",
   "execution_count": 27,
   "metadata": {},
   "outputs": [
    {
     "data": {
      "text/plain": [
       "(1000, 2)"
      ]
     },
     "execution_count": 27,
     "metadata": {},
     "output_type": "execute_result"
    }
   ],
   "source": [
    "X.shape"
   ]
  },
  {
   "cell_type": "code",
   "execution_count": 28,
   "metadata": {},
   "outputs": [],
   "source": [
    "'''\n",
    "k menas clustering algo implementation\n",
    "Input:\n",
    "X: data points\n",
    "n_cluster: no of clusters; default = 4\n",
    "init_style: initial cluster choosing style; default = k-menas\n",
    "    - k-means: to choose initial clusters randomly\n",
    "    - k-menas++: to choose initial clusters usefully\n",
    "Output:\n",
    "Cluster labels for data points\n",
    "''' \n",
    "def get_KMeans_clusters(X,n_cluster=4,init_style='k-means',n_iter=100):\n",
    "\n",
    "    # to reproduce results\n",
    "    # np.random.seed(1)\n",
    "\n",
    "    n_points=X.shape[0]\n",
    "    n_dim=X.shape[1]\n",
    "\n",
    "    '''\n",
    "    Get Inital Centroids\n",
    "    '''\n",
    "    # cluster centers are chosen to be K of the data points themselves #\n",
    "    if init_style=='k-means':\n",
    "\n",
    "        # this method simply chooses random n_cluster points from permuatated index\n",
    "        init_centroids_index=rnd.permutation(n_points)[:n_cluster]\n",
    "        init_centroids=X[init_centroids_index]\n",
    "        # another way is to create k-many random centroids that are not data points\n",
    "        #TODO: implement this one also with if-else cond\n",
    "    elif init_style=='k-means++':\n",
    "        # in this we choose centroids that are more representative of the sample points\n",
    "        # empty array and list\n",
    "        init_centroids=np.empty((n_cluster, n_dim))\n",
    "        init_centroids_index=list()\n",
    "\n",
    "        init_centroids_index.append(rnd.randint(n_points))\n",
    "        init_centroids[0]=X[init_centroids_index[-1]]\n",
    "       \n",
    "        for i in range(1,n_cluster):\n",
    "            \n",
    "            # new_X=np.delete(X,init_centroids_index,axis=0)\n",
    "            # no need to create a new array(2D) from X based on only unselected points\n",
    "            # bcz probability for them would be zero; so they would not be selected again\n",
    "             \n",
    "            tmp=np.empty((n_points,i))\n",
    "            for j in range(i):\n",
    "                tmp[:,j]=np.sum(np.sqrt((X-init_centroids[j,:])**2),axis=1)\n",
    "\n",
    "            tmp_min=np.min(tmp,axis=1) # min(D(X)) for each unselected point\n",
    "\n",
    "            # convert them into probabilities\n",
    "            tmp_prob=tmp_min/np.sum(tmp_min)\n",
    "            # print(np.min(tmp_prob))\n",
    "\n",
    "            # possible index values\n",
    "            values=list(range(0,1000))\n",
    "            # choose an index randomly based on probability\n",
    "            next_centriod= np.random.choice(a=values, size=1, p=tmp_prob)[0]\n",
    "            # add next centroid to the list and empty array\n",
    "            init_centroids_index.append(next_centriod)\n",
    "            init_centroids[i]=X[init_centroids_index[-1]]\n",
    "    else:\n",
    "        print('give a valid choice for init_style')\n",
    "        return None\n",
    "    \n",
    "    '''\n",
    "    KMeans Iterations\n",
    "    '''\n",
    "    curr_centroids=init_centroids\n",
    "\n",
    "    # to store cluster assignment and error info after each iteration\n",
    "    cluster_history=list()\n",
    "    wacc_history=list()\n",
    "\n",
    "    # for stopping/convergance criterian\n",
    "    error_tol=10**(-4)\n",
    "    iter_error_diff=1 \n",
    "    iter_count=0\n",
    "    new_objective_value=sys.float_info.max\n",
    "\n",
    "    while (iter_error_diff>error_tol) and (iter_count<n_iter):\n",
    "        # increase iter_count\n",
    "        iter_count+=1\n",
    "        \n",
    "        # create empty temp array to store euclidean dist-sum from cluster centroids\n",
    "        # do it for each cluster centroid\n",
    "        tmp_array=np.empty((n_points, n_cluster))\n",
    "\n",
    "        for cluster in range(n_cluster):\n",
    "            # here distance is euclidean\n",
    "            tmp_array[:,cluster]=np.sum((X-curr_centroids[cluster,:])**2,axis=1)\n",
    "        \n",
    "        # assign cluster to each point based on min distance from the cluster\n",
    "        tmp_cluster_assign=np.argmin(tmp_array,axis=1)\n",
    "        cluster_history.append(tmp_cluster_assign)\n",
    "        \n",
    "        # update centeroids by cluster point mean\n",
    "        curr_objective_value=0\n",
    "        for cluster in range(n_cluster):\n",
    "            tmp_cluster_points=X[(tmp_cluster_assign==cluster),:] # 2D array\n",
    "            tmp_centroid=np.mean(tmp_cluster_points,axis=0) # 1D mean array\n",
    "            curr_objective_value+=np.sum(np.sum((tmp_cluster_points-tmp_centroid)**2,axis=0),axis=0) # scalar\n",
    "            curr_centroids[cluster,:]=tmp_centroid # update cluster centroid\n",
    "        wacc_history.append(curr_objective_value) # add curr error value to history\n",
    "\n",
    "        # update difference\n",
    "        iter_error_diff=new_objective_value-curr_objective_value\n",
    "        new_objective_value=curr_objective_value\n",
    "        \n",
    "    # return cluster ids for each of the data points in X with some history info\n",
    "    return {'final':tmp_cluster_assign,'history':cluster_history,'iter-count':iter_count,'wacc-history':wacc_history,'final-centroids':curr_centroids,'start-centroid':init_centroids_index}"
   ]
  },
  {
   "cell_type": "code",
   "execution_count": 29,
   "metadata": {},
   "outputs": [
    {
     "data": {
      "image/png": "[encoded data removed]",
      "text/plain": [
       "<Figure size 576x576 with 1 Axes>"
      ]
     },
     "metadata": {
      "needs_background": "light"
     },
     "output_type": "display_data"
    }
   ],
   "source": [
    "no_of_clusters=5\n",
    "model=get_KMeans_clusters(X,n_cluster=no_of_clusters)\n",
    "plot_clusters(X,model['final'],n_cluster=no_of_clusters)\n",
    "# centroids=model['final-centroids']\n",
    "# plt.scatter(centroids[:,0],centroids[:,1],s=300,c='red')"
   ]
  },
  {
   "cell_type": "code",
   "execution_count": 30,
   "metadata": {},
   "outputs": [
    {
     "data": {
      "image/png": "[encoded data removed]",
      "text/plain": [
       "<Figure size 576x576 with 1 Axes>"
      ]
     },
     "metadata": {
      "needs_background": "light"
     },
     "output_type": "display_data"
    }
   ],
   "source": [
    "model=get_KMeans_clusters(X,n_cluster=no_of_clusters,init_style='k-means++')\n",
    "\n",
    "plot_clusters(X,model['final'],n_cluster=no_of_clusters)"
   ]
  },
  {
   "cell_type": "markdown",
   "metadata": {},
   "source": [
    "(b) Implement k-means++ to initialize cluster centers usefully. [5 points]"
   ]
  },
  {
   "cell_type": "markdown",
   "metadata": {},
   "source": [
    "(c) What value of k gives you the best clustering? Are you happy with the quality of the clustering? [5 points]"
   ]
  },
  {
   "cell_type": "markdown",
   "metadata": {},
   "source": [
    "### elbow analysis with kmeans random"
   ]
  },
  {
   "cell_type": "code",
   "execution_count": 31,
   "metadata": {},
   "outputs": [
    {
     "data": {
      "image/png": "[encoded data removed]",
      "text/plain": [
       "<Figure size 864x432 with 1 Axes>"
      ]
     },
     "metadata": {
      "needs_background": "light"
     },
     "output_type": "display_data"
    }
   ],
   "source": [
    "# fitting multiple k-means algorithms with different n_clusters and storing the values in an empty list\n",
    "objective_value = []\n",
    "max_cluster=15\n",
    "for cluster in range(1,max_cluster+1):\n",
    "    kmeans = get_KMeans_clusters(X,n_cluster=cluster)\n",
    "    objective_value.append(kmeans['wacc-history'][-1])\n",
    "\n",
    "# plotting the results\n",
    "plt.figure(figsize=(12,6))\n",
    "plt.plot(list(range(1,max_cluster+1)), objective_value, marker='o')\n",
    "plt.xlabel('number of clusters')\n",
    "plt.ylabel('objective-value')\n",
    "plt.title('K-means Random')\n",
    "plt.show()"
   ]
  },
  {
   "cell_type": "markdown",
   "metadata": {},
   "source": [
    "**Observations:**\n",
    "- around 5-6 clusters there seems an elbow."
   ]
  },
  {
   "cell_type": "markdown",
   "metadata": {},
   "source": [
    "### elbow analysis with kmeans++"
   ]
  },
  {
   "cell_type": "code",
   "execution_count": 32,
   "metadata": {},
   "outputs": [
    {
     "data": {
      "text/plain": [
       "Text(0.5, 1.0, 'K-means++')"
      ]
     },
     "execution_count": 32,
     "metadata": {},
     "output_type": "execute_result"
    },
    {
     "data": {
      "image/png": "[encoded data removed]",
      "text/plain": [
       "<Figure size 864x432 with 1 Axes>"
      ]
     },
     "metadata": {
      "needs_background": "light"
     },
     "output_type": "display_data"
    }
   ],
   "source": [
    "# fitting multiple k-means algorithms with different n_clusters and storing the values in an empty list\n",
    "objective_value = []\n",
    "max_cluster=15\n",
    "for cluster in range(1,max_cluster+1):\n",
    "    kmeans = get_KMeans_clusters(X,n_cluster=cluster,init_style='k-means++') # with kmeans++\n",
    "    objective_value.append(kmeans['wacc-history'][-1])\n",
    "\n",
    "# plotting the results\n",
    "plt.figure(figsize=(12,6))\n",
    "plt.plot(list(range(1,max_cluster+1)), objective_value, marker='o')\n",
    "plt.xlabel('number of clusters')\n",
    "plt.ylabel('objective-value')\n",
    "plt.title('K-means++')"
   ]
  },
  {
   "cell_type": "markdown",
   "metadata": {},
   "source": [
    "**Observations:**\n",
    "- around 5-6 clusters there seems an elbow."
   ]
  },
  {
   "cell_type": "markdown",
   "metadata": {},
   "source": [
    "## AM I HAPPY WITH THIS CLUSTERING?\n",
    "- NO, I DON'T THINK SO.\n",
    "- There are only linear cluster coundaries. I was hoping it would cluster `eye1`, `eye1`, `nose`, `mouth` and `face` in different clusters but that would need non-linear boundaries at least to cluster face into one cluster we will need non-linear boundary. Other items that could have been clustered with linear boundaries, that also is not being done by it."
   ]
  },
  {
   "cell_type": "markdown",
   "metadata": {},
   "source": [
    "(d) I'm going to say that we want to be able to do better than this. So I want you to kernelize your k-means algorithm with a Gaussian kernel. Visualize the clustering output of your kernel k-means algorithm [15 points]"
   ]
  },
  {
   "cell_type": "code",
   "execution_count": 387,
   "metadata": {},
   "outputs": [],
   "source": [
    "from time import time\n",
    "# set this variable to change lambda in guassian kernel\n",
    "LAMBDA=1\n",
    "def pair_kernel_dist(x,y):\n",
    "    return np.exp(-LAMBDA * np.sum((x-y)**2))\n",
    "    \n",
    "def pair_kernel_dist_total(x,cluster_points):\n",
    "    # math is bit involving given in markdowns\n",
    "    tic=time()\n",
    "    n_points_=len(cluster_points)\n",
    "    return_dist=n_points_**2\n",
    "    for i,point1 in enumerate(cluster_points):\n",
    "        for j,point2 in enumerate(cluster_points):\n",
    "            if i!=j:\n",
    "                return_dist+=pair_kernel_dist(point1,point2)-pair_kernel_dist(x,point1)-pair_kernel_dist(x,point2)\n",
    "    toc=time()\n",
    "    print(toc-tic)\n",
    "    return return_dist\n",
    "def kernel_dist(X,centroid):\n",
    "    tic=time()\n",
    "    return_array=np.empty(X.shape[0])\n",
    "    for i,x in enumerate(X):\n",
    "        return_array[i]=pair_kernel_dist_total(x,centroid)\n",
    "    toc=time()\n",
    "    print(toc-tic)\n",
    "    return return_array\n",
    "# exact formula is given in kernel kmeans slide \n",
    "# return 2*(1-(np.exp(-LAMBDA * np.sum((X-centroid)**2,axis=1))))\n",
    "\n",
    "'''\n",
    "k menas clustering algo implementation\n",
    "Input:\n",
    "X: data points\n",
    "n_cluster: no of clusters; default = 4\n",
    "init_style: initial cluster choosing style; default = k-menas\n",
    "    - k-means: to choose initial clusters randomly\n",
    "    - k-menas++: to choose initial clusters usefully\n",
    "Output:\n",
    "Cluster labels for data points\n",
    "''' \n",
    "def get_kernel_KMeans_clusters(X,n_cluster=4,init_style='k-means',n_iter=2):\n",
    "\n",
    "    # to reproduce results\n",
    "    # np.random.seed(1)\n",
    "\n",
    "    n_points=X.shape[0]\n",
    "    n_dim=X.shape[1]\n",
    "\n",
    "    '''\n",
    "    Get Inital Centroids\n",
    "    '''\n",
    "    # cluster centers are chosen to be K of the data points themselves #\n",
    "    if init_style=='k-means':\n",
    "\n",
    "        # this method simply chooses random n_cluster points from permuatated index\n",
    "        init_centroids_index=rnd.permutation(n_points)[:n_cluster]\n",
    "        init_centroids=X[init_centroids_index]\n",
    "        # another way is to create k-many random centroids that are not data points\n",
    "        #TODO: implement this one also with if-else cond\n",
    "    elif init_style=='k-means++':\n",
    "        # in this we choose centroids that are more representative of the sample points\n",
    "        # empty array and list\n",
    "        init_centroids=np.empty((n_cluster, n_dim))\n",
    "        init_centroids_index=list()\n",
    "\n",
    "        init_centroids_index.append(rnd.randint(n_points))\n",
    "        init_centroids[0]=X[init_centroids_index[-1]]\n",
    "       \n",
    "        for i in range(1,n_cluster):\n",
    "            \n",
    "            # new_X=np.delete(X,init_centroids_index,axis=0)\n",
    "            # no need to create a new array(2D) from X based on only unselected points\n",
    "            # bcz probability for them would be zero; so they would not be selected again\n",
    "             \n",
    "            tmp=np.empty((n_points,i))\n",
    "            for j in range(i):\n",
    "                #TODO:done\n",
    "                tmp[:,j]=np.sqrt(kernel_dist(X,init_centroids[j,:]))\n",
    "\n",
    "            tmp_min=np.min(tmp,axis=1) # min(D(X)) for each unselected point\n",
    "\n",
    "            # convert them into probabilities\n",
    "            tmp_prob=tmp_min/np.sum(tmp_min)\n",
    "            # print(np.min(tmp_prob))\n",
    "\n",
    "            # possible index values\n",
    "            values=list(range(0,1000))\n",
    "            # choose an index randomly based on probability\n",
    "            next_centriod= np.random.choice(a=values, size=1, p=tmp_prob)[0]\n",
    "            # add next centroid to the list and empty array\n",
    "            init_centroids_index.append(next_centriod)\n",
    "            init_centroids[i]=X[init_centroids_index[-1]]\n",
    "    else:\n",
    "        print('give a valid choice for init_style')\n",
    "        return None\n",
    "    \n",
    "    '''\n",
    "    KMeans Iterations\n",
    "    '''\n",
    "    curr_centroids=list()\n",
    "    for i in range(n_cluster):\n",
    "        curr_centroids.append(init_centroids[i,])\n",
    "\n",
    "    # to store cluster assignment and error info after each iteration\n",
    "    cluster_history=list()\n",
    "    wacc_history=list()\n",
    "\n",
    "    # for stopping/convergance criterian\n",
    "    error_tol=10**(-4)\n",
    "    iter_error_diff=1 \n",
    "    iter_count=0\n",
    "    new_objective_value=sys.float_info.max\n",
    "\n",
    "    while iter_count<n_iter:\n",
    "        # increase iter_count\n",
    "        iter_count+=1\n",
    "        \n",
    "        # create empty temp array to store euclidean dist-sum from cluster centroids\n",
    "        # do it for each cluster centroid\n",
    "        tmp_array=np.empty((n_points, n_cluster))\n",
    "\n",
    "        for cluster in range(n_cluster):\n",
    "            # here distance is euclidean\n",
    "            #TODO:done\n",
    "            tmp_array[:,cluster]=kernel_dist(X,curr_centroids[cluster])\n",
    "        # print(tmp_cluster_assign)\n",
    "        # assign cluster to each point based on min distance from the cluster\n",
    "        tmp_cluster_assign=np.argmin(tmp_array,axis=1)\n",
    "        cluster_history.append(tmp_cluster_assign)\n",
    "        # print(tmp_cluster_assign)\n",
    "        # update centeroids by cluster point mean\n",
    "        curr_objective_value=0\n",
    "        for cluster in range(n_cluster):\n",
    "            tmp_cluster_points=X[(tmp_cluster_assign==cluster),:] # 2D array\n",
    "            #TODO:??\n",
    "            # tmp_centroid=np.mean(tmp_cluster_points,axis=0) # 1D mean array\n",
    "            #TODO:done:done\n",
    "            # print(tmp_cluster_points)\n",
    "            # curr_objective_value+=np.sum(kernel_dist(tmp_cluster_points,tmp_cluster_points)) # scalar\n",
    "            curr_centroids[cluster]=tmp_cluster_points # update cluster centroid\n",
    "        # print(curr_centroids)\n",
    "        wacc_history.append(curr_objective_value) # add curr error value to history\n",
    "\n",
    "        # update difference\n",
    "        # iter_error_diff=new_objective_value-curr_objective_value\n",
    "        # new_objective_value=curr_objective_value\n",
    "    return tmp_cluster_assign\n",
    "    # return cluster ids for each of the data points in X with some history info\n",
    "    # return {'final':tmp_cluster_assign,'history':cluster_history,'iter-count':iter_count,}#'wacc-history':wacc_history,'final-centroids':curr_centroids,'start-centroid':init_centroids_index}"
   ]
  },
  {
   "cell_type": "code",
   "execution_count": 10,
   "metadata": {},
   "outputs": [
    {
     "data": {
      "text/plain": [
       "1000"
      ]
     },
     "execution_count": 10,
     "metadata": {},
     "output_type": "execute_result"
    }
   ],
   "source": [
    "len(X)"
   ]
  },
  {
   "cell_type": "code",
   "execution_count": 36,
   "metadata": {},
   "outputs": [],
   "source": [
    "from time import time\n",
    "# set this variable to change lambda in guassian kernel\n",
    "LAMBDA=1\n",
    "def pair_kernel_dist(x,y):\n",
    "    return np.exp(-LAMBDA * np.sum((x-y)**2))\n",
    "    \n",
    "def pair_kernel_dist_total(x,cluster_points):\n",
    "    # math is bit involving given in markdowns\n",
    "    # tic=time()\n",
    "    n_points_=len(cluster_points)\n",
    "    return_dist=1.0\n",
    "    for i,point1 in enumerate(cluster_points):\n",
    "        return_dist-=(2/n_points_)*pair_kernel_dist(x,point1)\n",
    "        \n",
    "    # toc=time()\n",
    "    # print(toc-tic)\n",
    "    return return_dist\n",
    "def kernel_dist(X,centroid):\n",
    "    tic=time()\n",
    "    n_points_=len(centroid)\n",
    "    centroid_points_dist=n_points_\n",
    "    for i in range(n_points_):\n",
    "        for j in range(n_points_):\n",
    "            if i!=j:\n",
    "                centroid_points_dist+=pair_kernel_dist(centroid[i],centroid[j,])\n",
    "    centroid_points_dist=centroid_points_dist/(n_points_**2)\n",
    "    toc=time()\n",
    "    print(toc-tic)\n",
    "    \n",
    "    return_array=np.empty(X.shape[0])\n",
    "    for i,x in enumerate(X):\n",
    "        return_array[i]=pair_kernel_dist_total(x,centroid)+centroid_points_dist\n",
    "    \n",
    "    return return_array\n",
    "# exact formula is given in kernel kmeans slide \n",
    "# return 2*(1-(np.exp(-LAMBDA * np.sum((X-centroid)**2,axis=1))))\n",
    "\n",
    "'''\n",
    "k menas clustering algo implementation\n",
    "Input:\n",
    "X: data points\n",
    "n_cluster: no of clusters; default = 4\n",
    "init_style: initial cluster choosing style; default = k-menas\n",
    "    - k-means: to choose initial clusters randomly\n",
    "    - k-menas++: to choose initial clusters usefully\n",
    "Output:\n",
    "Cluster labels for data points\n",
    "''' \n",
    "def get_kernel_KMeans_clusters(X,n_cluster=4,init_style='k-means',n_iter=2):\n",
    "\n",
    "    # to reproduce results\n",
    "    # np.random.seed(1)\n",
    "\n",
    "    n_points=X.shape[0]\n",
    "    n_dim=X.shape[1]\n",
    "\n",
    "    '''\n",
    "    Get Inital Centroids\n",
    "    '''\n",
    "    # cluster centers are chosen to be K of the data points themselves #\n",
    "    if init_style=='k-means':\n",
    "\n",
    "        # this method simply chooses random n_cluster points from permuatated index\n",
    "        init_centroids_index=rnd.permutation(n_points)[:n_cluster]\n",
    "        init_centroids=X[init_centroids_index]\n",
    "        # another way is to create k-many random centroids that are not data points\n",
    "        #TODO: implement this one also with if-else cond\n",
    "    elif init_style=='k-means++':\n",
    "        # in this we choose centroids that are more representative of the sample points\n",
    "        # empty array and list\n",
    "        init_centroids=np.empty((n_cluster, n_dim))\n",
    "        init_centroids_index=list()\n",
    "\n",
    "        init_centroids_index.append(rnd.randint(n_points))\n",
    "        init_centroids[0]=X[init_centroids_index[-1]]\n",
    "       \n",
    "        for i in range(1,n_cluster):\n",
    "            \n",
    "            # new_X=np.delete(X,init_centroids_index,axis=0)\n",
    "            # no need to create a new array(2D) from X based on only unselected points\n",
    "            # bcz probability for them would be zero; so they would not be selected again\n",
    "             \n",
    "            tmp=np.empty((n_points,i))\n",
    "            for j in range(i):\n",
    "                #TODO:done\n",
    "                tmp[:,j]=np.sqrt(kernel_dist(X,init_centroids[j,:]))\n",
    "\n",
    "            tmp_min=np.min(tmp,axis=1) # min(D(X)) for each unselected point\n",
    "\n",
    "            # convert them into probabilities\n",
    "            tmp_prob=tmp_min/np.sum(tmp_min)\n",
    "            # print(np.min(tmp_prob))\n",
    "\n",
    "            # possible index values\n",
    "            values=list(range(0,1000))\n",
    "            # choose an index randomly based on probability\n",
    "            next_centriod= np.random.choice(a=values, size=1, p=tmp_prob)[0]\n",
    "            # add next centroid to the list and empty array\n",
    "            init_centroids_index.append(next_centriod)\n",
    "            init_centroids[i]=X[init_centroids_index[-1]]\n",
    "    else:\n",
    "        print('give a valid choice for init_style')\n",
    "        return None\n",
    "    \n",
    "    '''\n",
    "    KMeans Iterations\n",
    "    '''\n",
    "    curr_centroids=list()\n",
    "    for i in range(n_cluster):\n",
    "        curr_centroids.append(init_centroids[i,])\n",
    "\n",
    "    # to store cluster assignment and error info after each iteration\n",
    "    cluster_history=list()\n",
    "    wacc_history=list()\n",
    "\n",
    "    # for stopping/convergance criterian\n",
    "    error_tol=10**(-4)\n",
    "    iter_error_diff=1 \n",
    "    iter_count=0\n",
    "    new_objective_value=sys.float_info.max\n",
    "\n",
    "    while iter_count<n_iter:\n",
    "        # increase iter_count\n",
    "        iter_count+=1\n",
    "        \n",
    "        # create empty temp array to store euclidean dist-sum from cluster centroids\n",
    "        # do it for each cluster centroid\n",
    "        tmp_array=np.empty((n_points, n_cluster))\n",
    "\n",
    "        for cluster in range(n_cluster):\n",
    "            # here distance is euclidean\n",
    "            #TODO:done\n",
    "            tmp_array[:,cluster]=kernel_dist(X,curr_centroids[cluster])\n",
    "        # print(tmp_cluster_assign)\n",
    "        # assign cluster to each point based on min distance from the cluster\n",
    "        tmp_cluster_assign=np.argmin(tmp_array,axis=1)\n",
    "        cluster_history.append(tmp_cluster_assign)\n",
    "        # print(tmp_cluster_assign)\n",
    "        # update centeroids by cluster point mean\n",
    "        curr_objective_value=0\n",
    "        for cluster in range(n_cluster):\n",
    "            tmp_cluster_points=X[(tmp_cluster_assign==cluster),:] # 2D array\n",
    "            #TODO:??\n",
    "            # tmp_centroid=np.mean(tmp_cluster_points,axis=0) # 1D mean array\n",
    "            #TODO:done:done\n",
    "            # print(tmp_cluster_points)\n",
    "            # curr_objective_value+=np.sum(kernel_dist(tmp_cluster_points,tmp_cluster_points)) # scalar\n",
    "            curr_centroids[cluster]=tmp_cluster_points # update cluster centroid\n",
    "        # print(curr_centroids)\n",
    "        wacc_history.append(curr_objective_value) # add curr error value to history\n",
    "\n",
    "        # update difference\n",
    "        # iter_error_diff=new_objective_value-curr_objective_value\n",
    "        # new_objective_value=curr_objective_value\n",
    "    return tmp_cluster_assign\n",
    "    # return cluster ids for each of the data points in X with some history info\n",
    "    # return {'final':tmp_cluster_assign,'history':cluster_history,'iter-count':iter_count,}#'wacc-history':wacc_history,'final-centroids':curr_centroids,'start-centroid':init_centroids_index}a"
   ]
  },
  {
   "cell_type": "code",
   "execution_count": 41,
   "metadata": {},
   "outputs": [
    {
     "name": "stdout",
     "output_type": "stream",
     "text": [
      "7.963180541992188e-05\n",
      "4.76837158203125e-05\n",
      "4.1961669921875e-05\n",
      "6.9828736782073975\n",
      "0.044077396392822266\n"
     ]
    },
    {
     "data": {
      "image/png": "[encoded data removed]",
      "text/plain": [
       "<Figure size 576x576 with 1 Axes>"
      ]
     },
     "metadata": {
      "needs_background": "light"
     },
     "output_type": "display_data"
    }
   ],
   "source": [
    "plot_clusters(X,get_kernel_KMeans_clusters(X,n_cluster=2,n_iter=2,init_style='k-means++'),n_cluster=2)"
   ]
  },
  {
   "cell_type": "markdown",
   "metadata": {},
   "source": [
    "- it is too slow; have to use other techniques that might work faster; basically transfer data into hilbert space and use k-means clustering"
   ]
  },
  {
   "cell_type": "markdown",
   "metadata": {},
   "source": [
    "### Q2. Expectation-Maximization"
   ]
  },
  {
   "cell_type": "markdown",
   "metadata": {},
   "source": [
    "We saw how to use EM to learn parameters for Gaussian mixture models last week. Specifically, for a GMM described by the set of parameters $\\{\\pi_k, \\mu_k, \\Sigma_k \\}_{k=1}^K$, we saw that the E-step boils down to figuring out the expected assignment of clusters based on a responsibility judgment proportional to $\\pi_k~N(\\mu_k, \\Sigma_k)$, given curent parameter estimates, followed by using GDA MLE updates assuming the current expected assignment in the M-step to update parameter values."
   ]
  },
  {
   "cell_type": "markdown",
   "metadata": {},
   "source": [
    "(a) Can you derive the E-step and M-step for an EM algorithm that would work for a Gaussian mixture model wherein the mixture weights $\\pi_k$ are known, and the covariances are restricted to be spherical, i.e. $\\Sigma_k = \\sigma^2_k I$? [20 points]"
   ]
  },
  {
   "cell_type": "markdown",
   "metadata": {},
   "source": [
    "(b) Implement this algorithm and show that it works on synthetic data with 3 clusters. If you are unable to derive the EM algorithm for part (a), implement the EM algorithm I showed in the class slides for the standard GMM (5 point penalty for taking this option) [15 points]. "
   ]
  },
  {
   "cell_type": "code",
   "execution_count": null,
   "metadata": {},
   "outputs": [],
   "source": []
  }
 ],
 "metadata": {
  "kernelspec": {
   "display_name": "Python 3",
   "language": "python",
   "name": "python3"
  },
  "language_info": {
   "codemirror_mode": {
    "name": "ipython",
    "version": 3
   },
   "file_extension": ".py",
   "mimetype": "text/x-python",
   "name": "python",
   "nbconvert_exporter": "python",
   "pygments_lexer": "ipython3",
   "version": "3.8.5"
  }
 },
 "nbformat": 4,
 "nbformat_minor": 4
}
