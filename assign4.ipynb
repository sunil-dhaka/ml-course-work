{
 "cells": [
  {
   "cell_type": "markdown",
   "metadata": {},
   "source": [
    "Use any additional libraries you want, but if you don't explicitly code stuff that I have explicitly asked you to code, you will not get marks."
   ]
  },
  {
   "cell_type": "markdown",
   "metadata": {},
   "source": [
    "### Q1. Kernel k-means\n",
    "\n",
    "Let's try and end our course on a happy note. The smiley dataset you see below is made up of many clusters of points. "
   ]
  },
  {
   "cell_type": "code",
   "execution_count": 70,
   "metadata": {},
   "outputs": [],
   "source": [
    "import numpy as np\n",
    "import numpy.linalg as lin\n",
    "import numpy.random as rnd\n",
    "from matplotlib import pyplot as plt\n",
    "\n",
    "\n",
    "def getFigure( sizex = 7, sizey = 7 ):\n",
    "    fig = plt.figure( figsize = (sizex, sizey) )\n",
    "    return fig\n",
    "\n",
    "def plot2D( X, fig, color = 'r', marker = '+', size = 100, empty = False ):\n",
    "    plt.figure( fig.number )\n",
    "    if empty:\n",
    "        plt.scatter( X[:,0], X[:,1], s = size, facecolors = 'none', edgecolors = color, marker = marker  )\n",
    "    else:\n",
    "        plt.scatter( X[:,0], X[:,1], s = size, c = color, marker = marker )\n",
    "\n",
    "\n",
    "def genCrescentData( d, n, mu, r, flipped = False ):\n",
    "    X = np.vstack( (np.cos( np.linspace( 0, np.pi, n ) ), np.sin( np.linspace( 0, np.pi, n ) ) ) ).T\n",
    "    if flipped:\n",
    "        X[:,1] = -np.abs( X[:,1] )\n",
    "    else:\n",
    "        X[:,1] = np.abs( X[:,1] )\n",
    "    X = (X * r) + mu\n",
    "    return X\n",
    "\n",
    "def genSphericalData( d, n, mu, r ):\n",
    "    X = rnd.normal( 0, 1, (n, d) )\n",
    "    norms = lin.norm( X, axis = 1 )\n",
    "    X = X / norms[:, np.newaxis]\n",
    "    X = (X * r) + mu\n",
    "    return X"
   ]
  },
  {
   "cell_type": "code",
   "execution_count": 71,
   "metadata": {},
   "outputs": [],
   "source": [
    "d = 2\n",
    "n = 200\n",
    "\n",
    "mu1 = np.array( [0,0] )\n",
    "mu2 = np.array( [0,1] )\n",
    "mu3 = np.array( [0,0] )\n",
    "mu4 = np.array( [-3,5] )\n",
    "mu5 = np.array( [3,5] )\n",
    "\n",
    "tmp1 = genCrescentData( d, n, mu1, 1 )\n",
    "tmp2 = genCrescentData( d, n, mu2, 5, flipped = True )\n",
    "tmp3 = genSphericalData( d, n, mu3, 10 )\n",
    "tmp4 = genSphericalData( d, n, mu4, 1 )\n",
    "tmp5 = genSphericalData( d, n, mu5, 1 )\n",
    "X = np.vstack( (tmp1, tmp2, tmp3, tmp4, tmp5) )"
   ]
  },
  {
   "cell_type": "code",
   "execution_count": 72,
   "metadata": {},
   "outputs": [
    {
     "data": {
      "image/png": "[encoded data removed]",
      "text/plain": [
       "<Figure size 576x576 with 1 Axes>"
      ]
     },
     "metadata": {
      "needs_background": "light"
     },
     "output_type": "display_data"
    }
   ],
   "source": [
    "fig = getFigure( 8, 8 )\n",
    "plot2D( X, fig, size = 50, color = 'b', marker = 'o' )"
   ]
  },
  {
   "cell_type": "markdown",
   "metadata": {},
   "source": [
    "(a) Can you implement the k-means algorithm to cluster this dataset? Visualize your output. [10 points] "
   ]
  },
  {
   "cell_type": "markdown",
   "metadata": {},
   "source": [
    "#### using sklearn(K=4)"
   ]
  },
  {
   "cell_type": "code",
   "execution_count": 73,
   "metadata": {},
   "outputs": [
    {
     "data": {
      "text/plain": [
       "(1000, 2)"
      ]
     },
     "execution_count": 73,
     "metadata": {},
     "output_type": "execute_result"
    }
   ],
   "source": [
    "X.shape"
   ]
  },
  {
   "cell_type": "code",
   "execution_count": 74,
   "metadata": {},
   "outputs": [],
   "source": [
    "from sklearn.cluster import KMeans"
   ]
  },
  {
   "cell_type": "code",
   "execution_count": 152,
   "metadata": {},
   "outputs": [],
   "source": [
    "model=KMeans(n_clusters=4,verbose=True)"
   ]
  },
  {
   "cell_type": "code",
   "execution_count": 153,
   "metadata": {},
   "outputs": [
    {
     "name": "stdout",
     "output_type": "stream",
     "text": [
      "Initialization complete\n",
      "Iteration 0, inertia 13344.033392816407\n",
      "Iteration 1, inertia 11481.573079659267\n",
      "Iteration 2, inertia 11234.794743670787\n",
      "Iteration 3, inertia 11160.735019988082\n",
      "Iteration 4, inertia 11137.232537108304\n",
      "Iteration 5, inertia 11129.327673458012\n",
      "Iteration 6, inertia 11119.148609662036\n",
      "Iteration 7, inertia 11080.660577886661\n",
      "Iteration 8, inertia 11054.63606967123\n",
      "Iteration 9, inertia 11041.530975105376\n",
      "Iteration 10, inertia 11027.375276061714\n",
      "Iteration 11, inertia 11018.135202122945\n",
      "Iteration 12, inertia 11014.22739494188\n",
      "Iteration 13, inertia 11013.827940507865\n",
      "Converged at iteration 13: strict convergence.\n",
      "Initialization complete\n",
      "Iteration 0, inertia 16053.34268332772\n",
      "Iteration 1, inertia 12067.936409739366\n",
      "Iteration 2, inertia 11683.732732312972\n",
      "Iteration 3, inertia 11678.876879553374\n",
      "Iteration 4, inertia 11677.341510676648\n",
      "Iteration 5, inertia 11674.482773614618\n",
      "Iteration 6, inertia 11672.260596577842\n",
      "Converged at iteration 6: strict convergence.\n",
      "Initialization complete\n",
      "Iteration 0, inertia 13077.046653000176\n",
      "Iteration 1, inertia 11285.196335069446\n",
      "Iteration 2, inertia 11162.304868566915\n",
      "Iteration 3, inertia 11137.655708549197\n",
      "Iteration 4, inertia 11124.218719476467\n",
      "Iteration 5, inertia 11102.425845485353\n",
      "Iteration 6, inertia 11071.682556635984\n",
      "Iteration 7, inertia 11053.189763200386\n",
      "Iteration 8, inertia 11036.442552883254\n",
      "Iteration 9, inertia 11025.406985201727\n",
      "Iteration 10, inertia 11018.135202122947\n",
      "Iteration 11, inertia 11014.227394941878\n",
      "Iteration 12, inertia 11013.827940507867\n",
      "Converged at iteration 12: strict convergence.\n",
      "Initialization complete\n",
      "Iteration 0, inertia 12946.423952557589\n",
      "Iteration 1, inertia 11553.112965136379\n",
      "Iteration 2, inertia 11430.361580585255\n",
      "Iteration 3, inertia 11357.065205519146\n",
      "Iteration 4, inertia 11325.692410370433\n",
      "Iteration 5, inertia 11301.38316470208\n",
      "Iteration 6, inertia 11295.450647451897\n",
      "Iteration 7, inertia 11281.44437709588\n",
      "Iteration 8, inertia 11272.800444855566\n",
      "Iteration 9, inertia 11269.681452739282\n",
      "Iteration 10, inertia 11269.27079776685\n",
      "Converged at iteration 10: strict convergence.\n",
      "Initialization complete\n",
      "Iteration 0, inertia 18520.088914932683\n",
      "Iteration 1, inertia 13036.620326502334\n",
      "Iteration 2, inertia 12171.115219912163\n",
      "Iteration 3, inertia 11585.974011825092\n",
      "Iteration 4, inertia 11331.835775804622\n",
      "Iteration 5, inertia 11247.407741962756\n",
      "Iteration 6, inertia 11180.802554968765\n",
      "Iteration 7, inertia 11099.719850106283\n",
      "Iteration 8, inertia 11042.76798560134\n",
      "Iteration 9, inertia 11024.86283887787\n",
      "Iteration 10, inertia 11019.215042617489\n",
      "Iteration 11, inertia 11015.935869523139\n",
      "Iteration 12, inertia 11013.730772436951\n",
      "Converged at iteration 12: center shift 0.0006337327744683195 within tolerance 0.0017837400938274706.\n",
      "Initialization complete\n",
      "Iteration 0, inertia 15157.630420342572\n",
      "Iteration 1, inertia 11729.415405970372\n",
      "Iteration 2, inertia 11697.859137417525\n",
      "Iteration 3, inertia 11693.374425416\n",
      "Converged at iteration 3: center shift 0.0004491630836760319 within tolerance 0.0017837400938274706.\n",
      "Initialization complete\n",
      "Iteration 0, inertia 12731.31394283727\n",
      "Iteration 1, inertia 11099.67465639351\n",
      "Iteration 2, inertia 11041.732025828838\n",
      "Iteration 3, inertia 11024.70248249745\n",
      "Iteration 4, inertia 11016.730094665174\n",
      "Iteration 5, inertia 11014.227394941878\n",
      "Iteration 6, inertia 11013.827940507867\n",
      "Converged at iteration 6: strict convergence.\n",
      "Initialization complete\n",
      "Iteration 0, inertia 13380.464595901365\n",
      "Iteration 1, inertia 11341.121540026446\n",
      "Iteration 2, inertia 11299.805705232775\n",
      "Iteration 3, inertia 11286.451560904925\n",
      "Iteration 4, inertia 11280.378022157403\n",
      "Iteration 5, inertia 11272.864221248337\n",
      "Iteration 6, inertia 11269.103780405141\n",
      "Iteration 7, inertia 11265.848727954404\n",
      "Iteration 8, inertia 11263.597296733471\n",
      "Iteration 9, inertia 11262.345937310973\n",
      "Converged at iteration 9: center shift 0.0014617165567380789 within tolerance 0.0017837400938274706.\n",
      "Initialization complete\n",
      "Iteration 0, inertia 16807.355239661345\n",
      "Iteration 1, inertia 13376.554160299927\n",
      "Iteration 2, inertia 12253.139759068428\n",
      "Iteration 3, inertia 11967.159963725815\n",
      "Iteration 4, inertia 11929.155219042026\n",
      "Iteration 5, inertia 11918.848916201165\n",
      "Iteration 6, inertia 11913.530490468567\n",
      "Iteration 7, inertia 11912.36078947965\n",
      "Converged at iteration 7: center shift 0.0016341506414365792 within tolerance 0.0017837400938274706.\n",
      "Initialization complete\n",
      "Iteration 0, inertia 19044.251976270396\n",
      "Iteration 1, inertia 13261.24353298033\n",
      "Iteration 2, inertia 11831.726014262118\n",
      "Iteration 3, inertia 11739.790253327898\n",
      "Iteration 4, inertia 11712.028726180115\n",
      "Iteration 5, inertia 11703.24072081971\n",
      "Iteration 6, inertia 11699.991720343094\n",
      "Iteration 7, inertia 11696.974950183385\n",
      "Converged at iteration 7: center shift 0.001329404379141731 within tolerance 0.0017837400938274706.\n"
     ]
    }
   ],
   "source": [
    "labels=(model.fit_predict(X))"
   ]
  },
  {
   "cell_type": "markdown",
   "metadata": {},
   "source": [
    "#### implementation from scratch"
   ]
  },
  {
   "cell_type": "code",
   "execution_count": 155,
   "metadata": {},
   "outputs": [],
   "source": [
    "'''\n",
    "func to plot 2D data with cluster IDs\n",
    "Input:\n",
    "data_2d: Data points in 2D :: If higher dim then can give PCA(2) applied data\n",
    "labels: cluster IDs array\n",
    "n_cluster: no of clusters; default = 4\n",
    "Output:\n",
    "plots a 2D scatter map with legend\n",
    "'''\n",
    "def plot_clusters(data_2d,labels,n_cluster=4):\n",
    "    # filter rows of original data\n",
    "    # for label in labels:\n",
    "    fig = plt.figure( figsize = (8, 8) )\n",
    "    plt.figure(fig.number)\n",
    "    for cluster in range(n_cluster):\n",
    "        label0 = data_2d[labels == cluster]\n",
    "        plt.scatter(label0[:,0] , label0[:,1],label=cluster)\n",
    "    plt.legend(fontsize='small')\n",
    "    plt.show()"
   ]
  },
  {
   "cell_type": "code",
   "execution_count": null,
   "metadata": {},
   "outputs": [],
   "source": [
    "'''\n",
    "k menas clustering algo implementation\n",
    "Input:\n",
    "X: data points\n",
    "n_cluster: no of clusters; default = 4\n",
    "init_style: initial cluster choosing style; default = k-menas\n",
    "    - k-means: to choose initial clusters randomly\n",
    "    - k-menas++: to choose initial clusters usefully\n",
    "Output:\n",
    "Cluster labels for data points\n",
    "'''\n",
    "def get_distance(x,y):\n",
    "    return lin.norm(x,y)\n",
    "    \n",
    "def get_KMeans_clusters(X,n_cluster=4,init_style='k-means'):\n",
    "\n",
    "    # to reproduce results\n",
    "    np.random.seed(1)\n",
    "\n",
    "    n_points=X.shape[0]\n",
    "    n_dim=X.shape[1]\n",
    "\n",
    "    # cluster centers are chosen to be K of the data points themselves #\n",
    "    if init_style=='k-means':\n",
    "        # this method simply chooses random n_cluster points from permuatated index\n",
    "        init_centroids=X[rnd.permutation(n_points)[:n_cluster]]\n",
    "    elif init_style=='k-means++':\n",
    "        # in this we choose centroids that are more representative of the sample points\n",
    "        # empty array and list\n",
    "        init_centroids=np.empty((n_cluster, n_dim))\n",
    "        init_centroids_index=list()\n",
    "\n",
    "        init_centroids_index.append(rnd.randint(n_points))\n",
    "        init_centroids[0]=X[init_centroids_index[0]]\n",
    "\n",
    "        \n",
    "        for i in range(1,n_cluster):\n",
    "\n",
    "    else:\n",
    "        print('give a valid choice for init_style')\n",
    "        return None\n",
    "\n",
    "    pass\n",
    "    # return cluster ids for each of the data points in X"
   ]
  },
  {
   "cell_type": "markdown",
   "metadata": {},
   "source": [
    "(b) Implement k-means++ to initialize cluster centers usefully. [5 points]"
   ]
  },
  {
   "cell_type": "markdown",
   "metadata": {},
   "source": [
    "(c) What value of k gives you the best clustering? Are you happy with the quality of the clustering? [5 points]"
   ]
  },
  {
   "cell_type": "markdown",
   "metadata": {},
   "source": [
    "(d) I'm going to say that we want to be able to do better than this. So I want you to kernelize your k-means algorithm with a Gaussian kernel. Visualize the clustering output of your kernel k-means algorithm [15 points]"
   ]
  },
  {
   "cell_type": "markdown",
   "metadata": {},
   "source": [
    "### Q2. Expectation-Maximization"
   ]
  },
  {
   "cell_type": "markdown",
   "metadata": {},
   "source": [
    "We saw how to use EM to learn parameters for Gaussian mixture models last week. Specifically, for a GMM described by the set of parameters $\\{\\pi_k, \\mu_k, \\Sigma_k \\}_{k=1}^K$, we saw that the E-step boils down to figuring out the expected assignment of clusters based on a responsibility judgment proportional to $\\pi_k~N(\\mu_k, \\Sigma_k)$, given curent parameter estimates, followed by using GDA MLE updates assuming the current expected assignment in the M-step to update parameter values."
   ]
  },
  {
   "cell_type": "markdown",
   "metadata": {},
   "source": [
    "(a) Can you derive the E-step and M-step for an EM algorithm that would work for a Gaussian mixture model wherein the mixture weights $\\pi_k$ are known, and the covariances are restricted to be spherical, i.e. $\\Sigma_k = \\sigma^2_k I$? [20 points]"
   ]
  },
  {
   "cell_type": "markdown",
   "metadata": {},
   "source": [
    "(b) Implement this algorithm and show that it works on synthetic data with 3 clusters. If you are unable to derive the EM algorithm for part (a), implement the EM algorithm I showed in the class slides for the standard GMM (5 point penalty for taking this option) [15 points]. "
   ]
  },
  {
   "cell_type": "code",
   "execution_count": null,
   "metadata": {},
   "outputs": [],
   "source": []
  }
 ],
 "metadata": {
  "kernelspec": {
   "display_name": "Python 3",
   "language": "python",
   "name": "python3"
  },
  "language_info": {
   "codemirror_mode": {
    "name": "ipython",
    "version": 3
   },
   "file_extension": ".py",
   "mimetype": "text/x-python",
   "name": "python",
   "nbconvert_exporter": "python",
   "pygments_lexer": "ipython3",
   "version": "3.8.5"
  }
 },
 "nbformat": 4,
 "nbformat_minor": 4
}
