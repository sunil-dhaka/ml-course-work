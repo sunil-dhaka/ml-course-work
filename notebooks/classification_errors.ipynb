{
 "cells": [
  {
   "cell_type": "markdown",
   "metadata": {},
   "source": [
    "# implement classification errors and measures on particular example using KNN\n",
    "- ROC  and precisiosn-recall curves\n",
    "- F-Score\n",
    "- Precision and Recall"
   ]
  },
  {
   "cell_type": "markdown",
   "metadata": {},
   "source": [
    "# structure\n",
    "- import modules\n",
    "- read dataset and pre-process necessary parts\n",
    "- split it into test-train[if has not been done already]\n",
    "    - split train into k-fold cross validation\n",
    "        - to make splits more representative use stratified sampling for classes\n",
    "- identify hyper-paras\n",
    "- implement grid search for hyper-paras\n",
    "- report measures and curves"
   ]
  },
  {
   "cell_type": "code",
   "execution_count": 62,
   "metadata": {},
   "outputs": [],
   "source": [
    "import pandas as pd\n",
    "import numpy as np\n",
    "from sklearn.neighbors import KNeighborsClassifier\n",
    "from sklearn.model_selection import train_test_split\n",
    "from sklearn.model_selection import cross_val_score"
   ]
  },
  {
   "cell_type": "code",
   "execution_count": 63,
   "metadata": {},
   "outputs": [],
   "source": [
    "data=pd.read_csv('../datasets/iris-data.csv',header=None,names=['sl','sw','pl','pw','class'])"
   ]
  },
  {
   "cell_type": "code",
   "execution_count": 64,
   "metadata": {},
   "outputs": [],
   "source": [
    "train,test=train_test_split(data,shuffle=True,test_size=0.3,random_state=1)"
   ]
  },
  {
   "cell_type": "markdown",
   "metadata": {},
   "source": [
    "- main hyper-paras\n",
    "    - no of neighbors\n",
    "- other hyper-paras\n",
    "    - test-size"
   ]
  },
  {
   "cell_type": "code",
   "execution_count": 65,
   "metadata": {},
   "outputs": [
    {
     "name": "stdout",
     "output_type": "stream",
     "text": [
      "without cross validation score is:  0.98\n",
      "0.98 avg score with sd being 0.04 when done with k=5 folds\n"
     ]
    }
   ],
   "source": [
    "model=KNeighborsClassifier(n_neighbors=3)\n",
    "model.fit(np.array(train.iloc[:,0:4]),np.array(train.iloc[:,4]))\n",
    "# without cross-validation\n",
    "print('without cross validation score is: ',round(model.score(np.array(test.iloc[:,0:4]),np.array(test.iloc[:,4])),2))\n",
    "# with k-fold cross-validation\n",
    "folds=5\n",
    "scores=cross_val_score(model,np.array(test.iloc[:,0:4]),np.array(test.iloc[:,4]),cv=folds)\n",
    "print('%0.2f avg score with sd being %0.2f when done with k=%0.0f folds' %(scores.mean(),scores.std(),folds))"
   ]
  }
 ],
 "metadata": {
  "interpreter": {
   "hash": "365d70965140afb04a698773bfdd31483bc82432b779112c2a78b5de7c16d125"
  },
  "kernelspec": {
   "display_name": "Python 3.8.5 64-bit ('base': conda)",
   "language": "python",
   "name": "python3"
  },
  "language_info": {
   "codemirror_mode": {
    "name": "ipython",
    "version": 3
   },
   "file_extension": ".py",
   "mimetype": "text/x-python",
   "name": "python",
   "nbconvert_exporter": "python",
   "pygments_lexer": "ipython3",
   "version": "3.8.5"
  },
  "orig_nbformat": 4
 },
 "nbformat": 4,
 "nbformat_minor": 2
}
