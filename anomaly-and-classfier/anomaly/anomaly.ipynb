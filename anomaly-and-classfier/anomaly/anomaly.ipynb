{
 "cells": [
  {
   "cell_type": "markdown",
   "metadata": {},
   "source": [
    "# import modules"
   ]
  },
  {
   "cell_type": "code",
   "execution_count": 109,
   "metadata": {},
   "outputs": [],
   "source": [
    "import pandas as pd\n",
    "import numpy as np\n",
    "import matplotlib.pyplot as plt"
   ]
  },
  {
   "cell_type": "markdown",
   "metadata": {},
   "source": [
    "# read data"
   ]
  },
  {
   "cell_type": "code",
   "execution_count": 110,
   "metadata": {},
   "outputs": [],
   "source": [
    "data=pd.read_table('anomaly-s110.dat',header=None,sep='\\t')"
   ]
  },
  {
   "cell_type": "code",
   "execution_count": 111,
   "metadata": {},
   "outputs": [],
   "source": [
    "data=data.iloc[:,0:100]"
   ]
  },
  {
   "cell_type": "markdown",
   "metadata": {},
   "source": [
    "# data exploration"
   ]
  },
  {
   "cell_type": "code",
   "execution_count": 112,
   "metadata": {},
   "outputs": [
    {
     "data": {
      "image/png": "[encoded data removed]",
      "text/plain": [
       "<Figure size 432x288 with 1 Axes>"
      ]
     },
     "metadata": {
      "needs_background": "light"
     },
     "output_type": "display_data"
    }
   ],
   "source": [
    "# row wise histograms\n",
    "# all rows seems to have similar kind of dist[namely exp dist] as they are overlapping quite well.\n",
    "for i in range(100):\n",
    "    data.iloc[i,:].hist(alpha=0.3)"
   ]
  },
  {
   "cell_type": "markdown",
   "metadata": {},
   "source": [
    "### rows"
   ]
  },
  {
   "cell_type": "code",
   "execution_count": 113,
   "metadata": {},
   "outputs": [
    {
     "data": {
      "text/html": [
       "<div>\n",
       "<style scoped>\n",
       "    .dataframe tbody tr th:only-of-type {\n",
       "        vertical-align: middle;\n",
       "    }\n",
       "\n",
       "    .dataframe tbody tr th {\n",
       "        vertical-align: top;\n",
       "    }\n",
       "\n",
       "    .dataframe thead th {\n",
       "        text-align: right;\n",
       "    }\n",
       "</style>\n",
       "<table border=\"1\" class=\"dataframe\">\n",
       "  <thead>\n",
       "    <tr style=\"text-align: right;\">\n",
       "      <th></th>\n",
       "      <th>0</th>\n",
       "      <th>1</th>\n",
       "      <th>2</th>\n",
       "      <th>3</th>\n",
       "      <th>4</th>\n",
       "      <th>5</th>\n",
       "      <th>6</th>\n",
       "      <th>7</th>\n",
       "      <th>8</th>\n",
       "      <th>9</th>\n",
       "      <th>...</th>\n",
       "      <th>90</th>\n",
       "      <th>91</th>\n",
       "      <th>92</th>\n",
       "      <th>93</th>\n",
       "      <th>94</th>\n",
       "      <th>95</th>\n",
       "      <th>96</th>\n",
       "      <th>97</th>\n",
       "      <th>98</th>\n",
       "      <th>99</th>\n",
       "    </tr>\n",
       "  </thead>\n",
       "  <tbody>\n",
       "    <tr>\n",
       "      <th>count</th>\n",
       "      <td>100.000000</td>\n",
       "      <td>100.000000</td>\n",
       "      <td>100.000000</td>\n",
       "      <td>100.000000</td>\n",
       "      <td>100.000000</td>\n",
       "      <td>100.000000</td>\n",
       "      <td>100.000000</td>\n",
       "      <td>100.000000</td>\n",
       "      <td>100.000000</td>\n",
       "      <td>100.000000</td>\n",
       "      <td>...</td>\n",
       "      <td>100.000000</td>\n",
       "      <td>100.000000</td>\n",
       "      <td>100.000000</td>\n",
       "      <td>100.000000</td>\n",
       "      <td>100.000000</td>\n",
       "      <td>100.000000</td>\n",
       "      <td>100.000000</td>\n",
       "      <td>100.000000</td>\n",
       "      <td>100.000000</td>\n",
       "      <td>100.000000</td>\n",
       "    </tr>\n",
       "    <tr>\n",
       "      <th>mean</th>\n",
       "      <td>0.119550</td>\n",
       "      <td>0.139088</td>\n",
       "      <td>0.129276</td>\n",
       "      <td>0.231873</td>\n",
       "      <td>0.261591</td>\n",
       "      <td>0.371853</td>\n",
       "      <td>0.417478</td>\n",
       "      <td>0.358749</td>\n",
       "      <td>0.324482</td>\n",
       "      <td>0.622394</td>\n",
       "      <td>...</td>\n",
       "      <td>4.990199</td>\n",
       "      <td>4.784278</td>\n",
       "      <td>4.995780</td>\n",
       "      <td>5.463824</td>\n",
       "      <td>4.196371</td>\n",
       "      <td>5.374741</td>\n",
       "      <td>5.406740</td>\n",
       "      <td>4.862247</td>\n",
       "      <td>5.057613</td>\n",
       "      <td>5.238912</td>\n",
       "    </tr>\n",
       "    <tr>\n",
       "      <th>std</th>\n",
       "      <td>0.223885</td>\n",
       "      <td>0.162317</td>\n",
       "      <td>0.151818</td>\n",
       "      <td>0.305164</td>\n",
       "      <td>0.477650</td>\n",
       "      <td>0.482898</td>\n",
       "      <td>0.418022</td>\n",
       "      <td>0.439253</td>\n",
       "      <td>0.363323</td>\n",
       "      <td>0.665968</td>\n",
       "      <td>...</td>\n",
       "      <td>5.058194</td>\n",
       "      <td>4.226265</td>\n",
       "      <td>5.981870</td>\n",
       "      <td>5.526268</td>\n",
       "      <td>4.294064</td>\n",
       "      <td>5.731628</td>\n",
       "      <td>5.732516</td>\n",
       "      <td>5.382611</td>\n",
       "      <td>4.594448</td>\n",
       "      <td>4.378304</td>\n",
       "    </tr>\n",
       "    <tr>\n",
       "      <th>min</th>\n",
       "      <td>-0.219470</td>\n",
       "      <td>0.001564</td>\n",
       "      <td>-0.581616</td>\n",
       "      <td>-1.634611</td>\n",
       "      <td>-3.130765</td>\n",
       "      <td>-0.824452</td>\n",
       "      <td>-0.127272</td>\n",
       "      <td>-1.446037</td>\n",
       "      <td>-1.080419</td>\n",
       "      <td>-1.936564</td>\n",
       "      <td>...</td>\n",
       "      <td>-0.214528</td>\n",
       "      <td>0.032046</td>\n",
       "      <td>-0.113569</td>\n",
       "      <td>0.064075</td>\n",
       "      <td>0.051549</td>\n",
       "      <td>-1.764685</td>\n",
       "      <td>0.017660</td>\n",
       "      <td>0.096489</td>\n",
       "      <td>0.187496</td>\n",
       "      <td>0.009844</td>\n",
       "    </tr>\n",
       "    <tr>\n",
       "      <th>25%</th>\n",
       "      <td>0.024697</td>\n",
       "      <td>0.036049</td>\n",
       "      <td>0.042755</td>\n",
       "      <td>0.065851</td>\n",
       "      <td>0.070161</td>\n",
       "      <td>0.108009</td>\n",
       "      <td>0.115483</td>\n",
       "      <td>0.098915</td>\n",
       "      <td>0.111339</td>\n",
       "      <td>0.223160</td>\n",
       "      <td>...</td>\n",
       "      <td>1.402278</td>\n",
       "      <td>1.543454</td>\n",
       "      <td>1.177768</td>\n",
       "      <td>1.227426</td>\n",
       "      <td>1.270008</td>\n",
       "      <td>1.089090</td>\n",
       "      <td>1.281813</td>\n",
       "      <td>1.560865</td>\n",
       "      <td>1.678455</td>\n",
       "      <td>1.916181</td>\n",
       "    </tr>\n",
       "    <tr>\n",
       "      <th>50%</th>\n",
       "      <td>0.065827</td>\n",
       "      <td>0.095709</td>\n",
       "      <td>0.118010</td>\n",
       "      <td>0.160348</td>\n",
       "      <td>0.233856</td>\n",
       "      <td>0.261139</td>\n",
       "      <td>0.320119</td>\n",
       "      <td>0.242649</td>\n",
       "      <td>0.217602</td>\n",
       "      <td>0.466731</td>\n",
       "      <td>...</td>\n",
       "      <td>3.707643</td>\n",
       "      <td>3.472596</td>\n",
       "      <td>2.844093</td>\n",
       "      <td>3.451176</td>\n",
       "      <td>2.554553</td>\n",
       "      <td>3.146168</td>\n",
       "      <td>3.438088</td>\n",
       "      <td>2.601672</td>\n",
       "      <td>3.354388</td>\n",
       "      <td>4.064243</td>\n",
       "    </tr>\n",
       "    <tr>\n",
       "      <th>75%</th>\n",
       "      <td>0.124352</td>\n",
       "      <td>0.158094</td>\n",
       "      <td>0.185989</td>\n",
       "      <td>0.337741</td>\n",
       "      <td>0.491850</td>\n",
       "      <td>0.585328</td>\n",
       "      <td>0.598798</td>\n",
       "      <td>0.455434</td>\n",
       "      <td>0.503075</td>\n",
       "      <td>0.795810</td>\n",
       "      <td>...</td>\n",
       "      <td>6.811972</td>\n",
       "      <td>7.037060</td>\n",
       "      <td>6.815666</td>\n",
       "      <td>7.748716</td>\n",
       "      <td>5.954720</td>\n",
       "      <td>8.051754</td>\n",
       "      <td>7.750695</td>\n",
       "      <td>6.190052</td>\n",
       "      <td>7.224766</td>\n",
       "      <td>7.872026</td>\n",
       "    </tr>\n",
       "    <tr>\n",
       "      <th>max</th>\n",
       "      <td>1.572921</td>\n",
       "      <td>0.883655</td>\n",
       "      <td>0.690379</td>\n",
       "      <td>1.144386</td>\n",
       "      <td>1.330569</td>\n",
       "      <td>2.809149</td>\n",
       "      <td>2.011168</td>\n",
       "      <td>1.753187</td>\n",
       "      <td>2.353753</td>\n",
       "      <td>2.632632</td>\n",
       "      <td>...</td>\n",
       "      <td>21.477533</td>\n",
       "      <td>20.517488</td>\n",
       "      <td>35.483725</td>\n",
       "      <td>22.609813</td>\n",
       "      <td>23.352113</td>\n",
       "      <td>32.363973</td>\n",
       "      <td>36.556162</td>\n",
       "      <td>26.849083</td>\n",
       "      <td>20.381493</td>\n",
       "      <td>23.781836</td>\n",
       "    </tr>\n",
       "  </tbody>\n",
       "</table>\n",
       "<p>8 rows × 100 columns</p>\n",
       "</div>"
      ],
      "text/plain": [
       "               0           1           2           3           4           5   \\\n",
       "count  100.000000  100.000000  100.000000  100.000000  100.000000  100.000000   \n",
       "mean     0.119550    0.139088    0.129276    0.231873    0.261591    0.371853   \n",
       "std      0.223885    0.162317    0.151818    0.305164    0.477650    0.482898   \n",
       "min     -0.219470    0.001564   -0.581616   -1.634611   -3.130765   -0.824452   \n",
       "25%      0.024697    0.036049    0.042755    0.065851    0.070161    0.108009   \n",
       "50%      0.065827    0.095709    0.118010    0.160348    0.233856    0.261139   \n",
       "75%      0.124352    0.158094    0.185989    0.337741    0.491850    0.585328   \n",
       "max      1.572921    0.883655    0.690379    1.144386    1.330569    2.809149   \n",
       "\n",
       "               6           7           8           9   ...          90  \\\n",
       "count  100.000000  100.000000  100.000000  100.000000  ...  100.000000   \n",
       "mean     0.417478    0.358749    0.324482    0.622394  ...    4.990199   \n",
       "std      0.418022    0.439253    0.363323    0.665968  ...    5.058194   \n",
       "min     -0.127272   -1.446037   -1.080419   -1.936564  ...   -0.214528   \n",
       "25%      0.115483    0.098915    0.111339    0.223160  ...    1.402278   \n",
       "50%      0.320119    0.242649    0.217602    0.466731  ...    3.707643   \n",
       "75%      0.598798    0.455434    0.503075    0.795810  ...    6.811972   \n",
       "max      2.011168    1.753187    2.353753    2.632632  ...   21.477533   \n",
       "\n",
       "               91          92          93          94          95          96  \\\n",
       "count  100.000000  100.000000  100.000000  100.000000  100.000000  100.000000   \n",
       "mean     4.784278    4.995780    5.463824    4.196371    5.374741    5.406740   \n",
       "std      4.226265    5.981870    5.526268    4.294064    5.731628    5.732516   \n",
       "min      0.032046   -0.113569    0.064075    0.051549   -1.764685    0.017660   \n",
       "25%      1.543454    1.177768    1.227426    1.270008    1.089090    1.281813   \n",
       "50%      3.472596    2.844093    3.451176    2.554553    3.146168    3.438088   \n",
       "75%      7.037060    6.815666    7.748716    5.954720    8.051754    7.750695   \n",
       "max     20.517488   35.483725   22.609813   23.352113   32.363973   36.556162   \n",
       "\n",
       "               97          98          99  \n",
       "count  100.000000  100.000000  100.000000  \n",
       "mean     4.862247    5.057613    5.238912  \n",
       "std      5.382611    4.594448    4.378304  \n",
       "min      0.096489    0.187496    0.009844  \n",
       "25%      1.560865    1.678455    1.916181  \n",
       "50%      2.601672    3.354388    4.064243  \n",
       "75%      6.190052    7.224766    7.872026  \n",
       "max     26.849083   20.381493   23.781836  \n",
       "\n",
       "[8 rows x 100 columns]"
      ]
     },
     "execution_count": 113,
     "metadata": {},
     "output_type": "execute_result"
    }
   ],
   "source": [
    "data.T.describe()"
   ]
  },
  {
   "cell_type": "code",
   "execution_count": 114,
   "metadata": {},
   "outputs": [
    {
     "data": {
      "text/plain": [
       "(array([82.,  9.,  1.,  3.,  1.,  1.,  0.,  0.,  1.,  2.]),\n",
       " array([0.18302202, 1.00119019, 1.81935837, 2.63752654, 3.45569471,\n",
       "        4.27386289, 5.09203106, 5.91019924, 6.72836741, 7.54653559,\n",
       "        8.36470376]),\n",
       " <BarContainer object of 10 artists>)"
      ]
     },
     "execution_count": 114,
     "metadata": {},
     "output_type": "execute_result"
    },
    {
     "data": {
      "image/png": "[encoded data removed]",
      "text/plain": [
       "<Figure size 432x288 with 1 Axes>"
      ]
     },
     "metadata": {
      "needs_background": "light"
     },
     "output_type": "display_data"
    }
   ],
   "source": [
    "plt.hist((1/data.T.mean()))"
   ]
  },
  {
   "cell_type": "code",
   "execution_count": 115,
   "metadata": {},
   "outputs": [
    {
     "data": {
      "text/plain": [
       "(array([12., 10., 12., 14.,  8., 12.,  9., 10.,  6.,  7.]),\n",
       " array([0.11954996, 0.65397731, 1.18840467, 1.72283202, 2.25725938,\n",
       "        2.79168673, 3.32611408, 3.86054144, 4.39496879, 4.92939615,\n",
       "        5.4638235 ]),\n",
       " <BarContainer object of 10 artists>)"
      ]
     },
     "execution_count": 115,
     "metadata": {},
     "output_type": "execute_result"
    },
    {
     "data": {
      "image/png": "[encoded data removed]",
      "text/plain": [
       "<Figure size 432x288 with 1 Axes>"
      ]
     },
     "metadata": {
      "needs_background": "light"
     },
     "output_type": "display_data"
    }
   ],
   "source": [
    "plt.hist(data.T.mean())\n",
    "# since means is varying quite a lot they can not be from the same exp distribution"
   ]
  },
  {
   "cell_type": "code",
   "execution_count": 116,
   "metadata": {},
   "outputs": [
    {
     "data": {
      "text/plain": [
       "(array([14., 20., 13., 12., 13., 12.,  8.,  5.,  1.,  2.]),\n",
       " array([ 0.690379 ,  4.2769573,  7.8635356, 11.4501139, 15.0366922,\n",
       "        18.6232705, 22.2098488, 25.7964271, 29.3830054, 32.9695837,\n",
       "        36.556162 ]),\n",
       " <BarContainer object of 10 artists>)"
      ]
     },
     "execution_count": 116,
     "metadata": {},
     "output_type": "execute_result"
    },
    {
     "data": {
      "image/png": "[encoded data removed]",
      "text/plain": [
       "<Figure size 432x288 with 1 Axes>"
      ]
     },
     "metadata": {
      "needs_background": "light"
     },
     "output_type": "display_data"
    }
   ],
   "source": [
    "plt.hist(data.T.max())"
   ]
  },
  {
   "cell_type": "code",
   "execution_count": 117,
   "metadata": {},
   "outputs": [
    {
     "data": {
      "text/plain": [
       "61"
      ]
     },
     "execution_count": 117,
     "metadata": {},
     "output_type": "execute_result"
    }
   ],
   "source": [
    "# in how many rows there is negative points\n",
    "len([l for l in list(data.T.min()) if l<0])"
   ]
  },
  {
   "cell_type": "code",
   "execution_count": 118,
   "metadata": {},
   "outputs": [
    {
     "data": {
      "text/plain": [
       "(array([ 2.,  0.,  2.,  1.,  9.,  4.,  8., 13., 15., 46.]),\n",
       " array([-3.130765 , -2.7989389, -2.4671128, -2.1352867, -1.8034606,\n",
       "        -1.4716345, -1.1398084, -0.8079823, -0.4761562, -0.1443301,\n",
       "         0.187496 ]),\n",
       " <BarContainer object of 10 artists>)"
      ]
     },
     "execution_count": 118,
     "metadata": {},
     "output_type": "execute_result"
    },
    {
     "data": {
      "image/png": "[encoded data removed]",
      "text/plain": [
       "<Figure size 432x288 with 1 Axes>"
      ]
     },
     "metadata": {
      "needs_background": "light"
     },
     "output_type": "display_data"
    }
   ],
   "source": [
    "plt.hist(data.T.min())"
   ]
  },
  {
   "cell_type": "markdown",
   "metadata": {},
   "source": [
    "##### rows analysis\n",
    "- it seems that rows are generated from diff exp dists; but they can not be from location-exp dist as there are very few negative points in each 100 samples from a exp dist. That cannot happen as they are the most probable points. They seem anomalies. "
   ]
  },
  {
   "cell_type": "markdown",
   "metadata": {},
   "source": [
    "### column"
   ]
  },
  {
   "cell_type": "code",
   "execution_count": 119,
   "metadata": {},
   "outputs": [
    {
     "data": {
      "text/html": [
       "<div>\n",
       "<style scoped>\n",
       "    .dataframe tbody tr th:only-of-type {\n",
       "        vertical-align: middle;\n",
       "    }\n",
       "\n",
       "    .dataframe tbody tr th {\n",
       "        vertical-align: top;\n",
       "    }\n",
       "\n",
       "    .dataframe thead th {\n",
       "        text-align: right;\n",
       "    }\n",
       "</style>\n",
       "<table border=\"1\" class=\"dataframe\">\n",
       "  <thead>\n",
       "    <tr style=\"text-align: right;\">\n",
       "      <th></th>\n",
       "      <th>0</th>\n",
       "      <th>1</th>\n",
       "      <th>2</th>\n",
       "      <th>3</th>\n",
       "      <th>4</th>\n",
       "      <th>5</th>\n",
       "      <th>6</th>\n",
       "      <th>7</th>\n",
       "      <th>8</th>\n",
       "      <th>9</th>\n",
       "      <th>...</th>\n",
       "      <th>90</th>\n",
       "      <th>91</th>\n",
       "      <th>92</th>\n",
       "      <th>93</th>\n",
       "      <th>94</th>\n",
       "      <th>95</th>\n",
       "      <th>96</th>\n",
       "      <th>97</th>\n",
       "      <th>98</th>\n",
       "      <th>99</th>\n",
       "    </tr>\n",
       "  </thead>\n",
       "  <tbody>\n",
       "    <tr>\n",
       "      <th>count</th>\n",
       "      <td>100.000000</td>\n",
       "      <td>100.000000</td>\n",
       "      <td>100.000000</td>\n",
       "      <td>100.000000</td>\n",
       "      <td>100.000000</td>\n",
       "      <td>100.000000</td>\n",
       "      <td>100.000000</td>\n",
       "      <td>100.000000</td>\n",
       "      <td>100.000000</td>\n",
       "      <td>100.000000</td>\n",
       "      <td>...</td>\n",
       "      <td>100.000000</td>\n",
       "      <td>100.000000</td>\n",
       "      <td>100.000000</td>\n",
       "      <td>100.000000</td>\n",
       "      <td>100.000000</td>\n",
       "      <td>100.000000</td>\n",
       "      <td>100.000000</td>\n",
       "      <td>100.000000</td>\n",
       "      <td>100.000000</td>\n",
       "      <td>100.000000</td>\n",
       "    </tr>\n",
       "    <tr>\n",
       "      <th>mean</th>\n",
       "      <td>13.354197</td>\n",
       "      <td>10.612138</td>\n",
       "      <td>9.431974</td>\n",
       "      <td>8.455350</td>\n",
       "      <td>7.814148</td>\n",
       "      <td>7.401769</td>\n",
       "      <td>6.948889</td>\n",
       "      <td>6.544222</td>\n",
       "      <td>6.251710</td>\n",
       "      <td>5.981074</td>\n",
       "      <td>...</td>\n",
       "      <td>0.276685</td>\n",
       "      <td>0.153571</td>\n",
       "      <td>0.154116</td>\n",
       "      <td>0.210960</td>\n",
       "      <td>0.197339</td>\n",
       "      <td>0.120264</td>\n",
       "      <td>0.087381</td>\n",
       "      <td>0.076194</td>\n",
       "      <td>0.044209</td>\n",
       "      <td>-0.013497</td>\n",
       "    </tr>\n",
       "    <tr>\n",
       "      <th>std</th>\n",
       "      <td>8.472024</td>\n",
       "      <td>6.570143</td>\n",
       "      <td>5.726459</td>\n",
       "      <td>5.162005</td>\n",
       "      <td>4.637531</td>\n",
       "      <td>4.505215</td>\n",
       "      <td>4.127328</td>\n",
       "      <td>3.891931</td>\n",
       "      <td>3.729813</td>\n",
       "      <td>3.597689</td>\n",
       "      <td>...</td>\n",
       "      <td>0.347648</td>\n",
       "      <td>0.430310</td>\n",
       "      <td>0.288364</td>\n",
       "      <td>0.267641</td>\n",
       "      <td>0.267635</td>\n",
       "      <td>0.197255</td>\n",
       "      <td>0.155564</td>\n",
       "      <td>0.083455</td>\n",
       "      <td>0.136580</td>\n",
       "      <td>0.277240</td>\n",
       "    </tr>\n",
       "    <tr>\n",
       "      <th>min</th>\n",
       "      <td>0.504331</td>\n",
       "      <td>0.376972</td>\n",
       "      <td>0.335134</td>\n",
       "      <td>0.231511</td>\n",
       "      <td>0.212933</td>\n",
       "      <td>0.210354</td>\n",
       "      <td>0.209624</td>\n",
       "      <td>0.196178</td>\n",
       "      <td>0.183648</td>\n",
       "      <td>0.207237</td>\n",
       "      <td>...</td>\n",
       "      <td>-1.009113</td>\n",
       "      <td>-2.992838</td>\n",
       "      <td>-1.764685</td>\n",
       "      <td>-0.571319</td>\n",
       "      <td>-0.437618</td>\n",
       "      <td>-0.824452</td>\n",
       "      <td>-0.623385</td>\n",
       "      <td>-0.002916</td>\n",
       "      <td>-0.938286</td>\n",
       "      <td>-2.354188</td>\n",
       "    </tr>\n",
       "    <tr>\n",
       "      <th>25%</th>\n",
       "      <td>6.462519</td>\n",
       "      <td>5.485747</td>\n",
       "      <td>4.796471</td>\n",
       "      <td>4.520371</td>\n",
       "      <td>4.415650</td>\n",
       "      <td>3.644819</td>\n",
       "      <td>3.647804</td>\n",
       "      <td>3.405716</td>\n",
       "      <td>3.299394</td>\n",
       "      <td>3.001344</td>\n",
       "      <td>...</td>\n",
       "      <td>0.112925</td>\n",
       "      <td>0.085229</td>\n",
       "      <td>0.075364</td>\n",
       "      <td>0.077143</td>\n",
       "      <td>0.065911</td>\n",
       "      <td>0.048899</td>\n",
       "      <td>0.035849</td>\n",
       "      <td>0.023128</td>\n",
       "      <td>0.011083</td>\n",
       "      <td>0.003005</td>\n",
       "    </tr>\n",
       "    <tr>\n",
       "      <th>50%</th>\n",
       "      <td>12.695776</td>\n",
       "      <td>10.399386</td>\n",
       "      <td>9.132731</td>\n",
       "      <td>7.644817</td>\n",
       "      <td>7.084449</td>\n",
       "      <td>6.647969</td>\n",
       "      <td>6.224044</td>\n",
       "      <td>6.063785</td>\n",
       "      <td>5.782635</td>\n",
       "      <td>5.367807</td>\n",
       "      <td>...</td>\n",
       "      <td>0.235905</td>\n",
       "      <td>0.177796</td>\n",
       "      <td>0.160765</td>\n",
       "      <td>0.148624</td>\n",
       "      <td>0.131543</td>\n",
       "      <td>0.094846</td>\n",
       "      <td>0.071469</td>\n",
       "      <td>0.054416</td>\n",
       "      <td>0.030620</td>\n",
       "      <td>0.011456</td>\n",
       "    </tr>\n",
       "    <tr>\n",
       "      <th>75%</th>\n",
       "      <td>20.051852</td>\n",
       "      <td>15.642375</td>\n",
       "      <td>12.864171</td>\n",
       "      <td>11.755916</td>\n",
       "      <td>10.799403</td>\n",
       "      <td>10.499430</td>\n",
       "      <td>10.048803</td>\n",
       "      <td>9.441142</td>\n",
       "      <td>8.887056</td>\n",
       "      <td>8.708741</td>\n",
       "      <td>...</td>\n",
       "      <td>0.386693</td>\n",
       "      <td>0.310848</td>\n",
       "      <td>0.266771</td>\n",
       "      <td>0.256877</td>\n",
       "      <td>0.237072</td>\n",
       "      <td>0.164255</td>\n",
       "      <td>0.141979</td>\n",
       "      <td>0.101493</td>\n",
       "      <td>0.064393</td>\n",
       "      <td>0.032472</td>\n",
       "    </tr>\n",
       "    <tr>\n",
       "      <th>max</th>\n",
       "      <td>36.556162</td>\n",
       "      <td>28.958184</td>\n",
       "      <td>23.405414</td>\n",
       "      <td>20.188057</td>\n",
       "      <td>18.165952</td>\n",
       "      <td>17.635497</td>\n",
       "      <td>16.907080</td>\n",
       "      <td>16.868437</td>\n",
       "      <td>15.393030</td>\n",
       "      <td>15.067470</td>\n",
       "      <td>...</td>\n",
       "      <td>2.146219</td>\n",
       "      <td>0.827836</td>\n",
       "      <td>1.046068</td>\n",
       "      <td>1.664594</td>\n",
       "      <td>1.477222</td>\n",
       "      <td>1.394541</td>\n",
       "      <td>0.875885</td>\n",
       "      <td>0.559475</td>\n",
       "      <td>0.670377</td>\n",
       "      <td>0.370311</td>\n",
       "    </tr>\n",
       "  </tbody>\n",
       "</table>\n",
       "<p>8 rows × 100 columns</p>\n",
       "</div>"
      ],
      "text/plain": [
       "               0           1           2           3           4           5   \\\n",
       "count  100.000000  100.000000  100.000000  100.000000  100.000000  100.000000   \n",
       "mean    13.354197   10.612138    9.431974    8.455350    7.814148    7.401769   \n",
       "std      8.472024    6.570143    5.726459    5.162005    4.637531    4.505215   \n",
       "min      0.504331    0.376972    0.335134    0.231511    0.212933    0.210354   \n",
       "25%      6.462519    5.485747    4.796471    4.520371    4.415650    3.644819   \n",
       "50%     12.695776   10.399386    9.132731    7.644817    7.084449    6.647969   \n",
       "75%     20.051852   15.642375   12.864171   11.755916   10.799403   10.499430   \n",
       "max     36.556162   28.958184   23.405414   20.188057   18.165952   17.635497   \n",
       "\n",
       "               6           7           8           9   ...          90  \\\n",
       "count  100.000000  100.000000  100.000000  100.000000  ...  100.000000   \n",
       "mean     6.948889    6.544222    6.251710    5.981074  ...    0.276685   \n",
       "std      4.127328    3.891931    3.729813    3.597689  ...    0.347648   \n",
       "min      0.209624    0.196178    0.183648    0.207237  ...   -1.009113   \n",
       "25%      3.647804    3.405716    3.299394    3.001344  ...    0.112925   \n",
       "50%      6.224044    6.063785    5.782635    5.367807  ...    0.235905   \n",
       "75%     10.048803    9.441142    8.887056    8.708741  ...    0.386693   \n",
       "max     16.907080   16.868437   15.393030   15.067470  ...    2.146219   \n",
       "\n",
       "               91          92          93          94          95          96  \\\n",
       "count  100.000000  100.000000  100.000000  100.000000  100.000000  100.000000   \n",
       "mean     0.153571    0.154116    0.210960    0.197339    0.120264    0.087381   \n",
       "std      0.430310    0.288364    0.267641    0.267635    0.197255    0.155564   \n",
       "min     -2.992838   -1.764685   -0.571319   -0.437618   -0.824452   -0.623385   \n",
       "25%      0.085229    0.075364    0.077143    0.065911    0.048899    0.035849   \n",
       "50%      0.177796    0.160765    0.148624    0.131543    0.094846    0.071469   \n",
       "75%      0.310848    0.266771    0.256877    0.237072    0.164255    0.141979   \n",
       "max      0.827836    1.046068    1.664594    1.477222    1.394541    0.875885   \n",
       "\n",
       "               97          98          99  \n",
       "count  100.000000  100.000000  100.000000  \n",
       "mean     0.076194    0.044209   -0.013497  \n",
       "std      0.083455    0.136580    0.277240  \n",
       "min     -0.002916   -0.938286   -2.354188  \n",
       "25%      0.023128    0.011083    0.003005  \n",
       "50%      0.054416    0.030620    0.011456  \n",
       "75%      0.101493    0.064393    0.032472  \n",
       "max      0.559475    0.670377    0.370311  \n",
       "\n",
       "[8 rows x 100 columns]"
      ]
     },
     "execution_count": 119,
     "metadata": {},
     "output_type": "execute_result"
    }
   ],
   "source": [
    "data.describe()"
   ]
  },
  {
   "cell_type": "code",
   "execution_count": 120,
   "metadata": {},
   "outputs": [
    {
     "data": {
      "text/plain": [
       "(array([ 1., 92.,  4.,  2.,  0.,  1.]),\n",
       " array([-100,    0,    5,   10,   15,   20,   25]),\n",
       " <BarContainer object of 6 artists>)"
      ]
     },
     "execution_count": 120,
     "metadata": {},
     "output_type": "execute_result"
    },
    {
     "data": {
      "image/png": "[encoded data removed]",
      "text/plain": [
       "<Figure size 432x288 with 1 Axes>"
      ]
     },
     "metadata": {
      "needs_background": "light"
     },
     "output_type": "display_data"
    }
   ],
   "source": [
    "plt.hist(1/(data.mean()),bins=[-100,0,5,10,15,20,25])"
   ]
  },
  {
   "cell_type": "code",
   "execution_count": 121,
   "metadata": {},
   "outputs": [
    {
     "data": {
      "text/plain": [
       "(array([39., 25., 15.,  9.,  5.,  3.,  1.,  2.,  0.,  1.]),\n",
       " array([-0.01349706,  1.32327231,  2.66004168,  3.99681104,  5.33358041,\n",
       "         6.67034978,  8.00711915,  9.34388852, 10.68065788, 12.01742725,\n",
       "        13.35419662]),\n",
       " <BarContainer object of 10 artists>)"
      ]
     },
     "execution_count": 121,
     "metadata": {},
     "output_type": "execute_result"
    },
    {
     "data": {
      "image/png": "[encoded data removed]",
      "text/plain": [
       "<Figure size 432x288 with 1 Axes>"
      ]
     },
     "metadata": {
      "needs_background": "light"
     },
     "output_type": "display_data"
    }
   ],
   "source": [
    "plt.hist(data.mean())"
   ]
  },
  {
   "cell_type": "code",
   "execution_count": 122,
   "metadata": {},
   "outputs": [
    {
     "data": {
      "text/plain": [
       "(array([ 2.,  0.,  2.,  3.,  9.,  2., 17., 15., 35., 15.]),\n",
       " array([-3.130765 , -2.7672554, -2.4037458, -2.0402362, -1.6767266,\n",
       "        -1.313217 , -0.9497074, -0.5861978, -0.2226882,  0.1408214,\n",
       "         0.504331 ]),\n",
       " <BarContainer object of 10 artists>)"
      ]
     },
     "execution_count": 122,
     "metadata": {},
     "output_type": "execute_result"
    },
    {
     "data": {
      "image/png": "[encoded data removed]",
      "text/plain": [
       "<Figure size 432x288 with 1 Axes>"
      ]
     },
     "metadata": {
      "needs_background": "light"
     },
     "output_type": "display_data"
    }
   ],
   "source": [
    "plt.hist(data.min())"
   ]
  },
  {
   "cell_type": "code",
   "execution_count": 123,
   "metadata": {},
   "outputs": [
    {
     "data": {
      "text/plain": [
       "(array([49., 21., 13.,  7.,  6.,  1.,  1.,  1.,  0.,  1.]),\n",
       " array([ 0.370311 ,  3.9888961,  7.6074812, 11.2260663, 14.8446514,\n",
       "        18.4632365, 22.0818216, 25.7004067, 29.3189918, 32.9375769,\n",
       "        36.556162 ]),\n",
       " <BarContainer object of 10 artists>)"
      ]
     },
     "execution_count": 123,
     "metadata": {},
     "output_type": "execute_result"
    },
    {
     "data": {
      "image/png": "[encoded data removed]",
      "text/plain": [
       "<Figure size 432x288 with 1 Axes>"
      ]
     },
     "metadata": {
      "needs_background": "light"
     },
     "output_type": "display_data"
    }
   ],
   "source": [
    "plt.hist(data.max())"
   ]
  },
  {
   "cell_type": "markdown",
   "metadata": {},
   "source": [
    "- see that max of 100 samples in each col is quite different\n",
    "- it could be that each col is generated from different exp model with diff rate parameter\n",
    "- but it can not be as rate parameter can never be negative but it is for some exp dist when we assume that cols are differently generated\n",
    "- so it is dismissed"
   ]
  },
  {
   "cell_type": "markdown",
   "metadata": {},
   "source": [
    "### overall exploration"
   ]
  },
  {
   "cell_type": "code",
   "execution_count": 124,
   "metadata": {},
   "outputs": [],
   "source": [
    "uni_points=[]\n",
    "for i in range(100):\n",
    "    uni_points.extend(list(data.iloc[i,:]))"
   ]
  },
  {
   "cell_type": "code",
   "execution_count": 125,
   "metadata": {},
   "outputs": [
    {
     "name": "stdout",
     "output_type": "stream",
     "text": [
      "96\n"
     ]
    }
   ],
   "source": [
    "neg_points=[p for p in uni_points if p<0]\n",
    "print(len(neg_points))"
   ]
  },
  {
   "cell_type": "code",
   "execution_count": 126,
   "metadata": {},
   "outputs": [],
   "source": [
    "# from statistics import mean ,stdev\n",
    "mu=sum(uni_points)/len(uni_points)\n",
    "sd=np.sqrt(sum(((np.array(uni_points)-mu)**2))/(len(uni_points)-1))"
   ]
  },
  {
   "cell_type": "code",
   "execution_count": 127,
   "metadata": {},
   "outputs": [
    {
     "name": "stdout",
     "output_type": "stream",
     "text": [
      "2.5453421763999997  = mean--sd =  3.292685536348141\n"
     ]
    }
   ],
   "source": [
    "print(mu,' = mean--sd = ',sd)"
   ]
  },
  {
   "cell_type": "markdown",
   "metadata": {},
   "source": [
    "- seems to me that model can be taken univariate exponantial dist.\n",
    "- based on the fact that values can not be negative we can get all negative values as outliers and then other far off values can be found based on p-value(95 or 99) concept"
   ]
  },
  {
   "cell_type": "code",
   "execution_count": 128,
   "metadata": {},
   "outputs": [
    {
     "name": "stdout",
     "output_type": "stream",
     "text": [
      "Total range points ::  -3.1307650000000002 = min--max = 36.556162\n"
     ]
    }
   ],
   "source": [
    "\n",
    "print('Total range points :: ',min(uni_points),'= min--max =',max(uni_points))"
   ]
  },
  {
   "cell_type": "code",
   "execution_count": 129,
   "metadata": {},
   "outputs": [
    {
     "data": {
      "text/plain": [
       "(array([0.000e+00, 1.000e+00, 3.000e+00, 1.800e+01, 7.400e+01, 4.085e+03,\n",
       "        1.836e+03, 1.167e+03, 8.090e+02, 5.070e+02, 3.760e+02, 2.560e+02,\n",
       "        2.050e+02, 1.540e+02, 1.120e+02, 1.040e+02, 5.900e+01, 4.800e+01,\n",
       "        3.100e+01, 2.800e+01, 2.800e+01, 2.000e+01, 1.600e+01, 2.000e+01,\n",
       "        5.000e+00, 1.200e+01, 4.000e+00, 3.000e+00, 6.000e+00]),\n",
       " array([-5, -4, -3, -2, -1,  0,  1,  2,  3,  4,  5,  6,  7,  8,  9, 10, 11,\n",
       "        12, 13, 14, 15, 16, 17, 18, 19, 20, 21, 22, 23, 24]),\n",
       " <BarContainer object of 29 artists>)"
      ]
     },
     "execution_count": 129,
     "metadata": {},
     "output_type": "execute_result"
    },
    {
     "data": {
      "image/png": "[encoded data removed]",
      "text/plain": [
       "<Figure size 432x288 with 1 Axes>"
      ]
     },
     "metadata": {
      "needs_background": "light"
     },
     "output_type": "display_data"
    }
   ],
   "source": [
    "plt.hist(uni_points,density=False,bins=list(range(-5,25)))"
   ]
  },
  {
   "cell_type": "markdown",
   "metadata": {},
   "source": [
    "# How to detect anomaly?"
   ]
  },
  {
   "cell_type": "markdown",
   "metadata": {},
   "source": [
    "- Since it is univariate data, we can easily plot a hist of it and see if any popular distribution model fits or not.\n",
    "- Did make a hist and can clearly see that it is either a mix of two distribution[one that has negative support and one is exponential] or it is just plain exp  dist with negative values as outliers.\n",
    "    - first case is complex as we have to use EM algo or something and that also is generally applied when models are Guassians but that is not the case. Also I don't know any distribution [in well known ones] that has negative support only.\n",
    "    - And then second case is quite simple and seems more reasonable to be assumed. We can easily implement it and see what happens.\n",
    "- Another possibility is that each row is assumed to have exp dist[BUT WITH DIFFERENT RATE PARAMETER]. And it is the best I can think of for this data set.\n",
    "- I have done this last one. Also I can safely detect that negative values are indeed anomalies. Reasoning is given in above section."
   ]
  },
  {
   "cell_type": "code",
   "execution_count": 130,
   "metadata": {},
   "outputs": [],
   "source": [
    "def get_anomalies(row_no=0,alpha=5): # 0-99\n",
    "    global data\n",
    "\n",
    "    thershold=(alpha/100)\n",
    "    \n",
    "    init_data=list(data.iloc[row_no,:])\n",
    "    n_points=len(init_data)\n",
    "    # make negatives outliers and then get para value from rest\n",
    "    mask=n_points*[0]\n",
    "    normal_data=[p for p in init_data if p>0]\n",
    "    # get rate para estimate\n",
    "    mu=sum(normal_data)/len(normal_data)\n",
    "    para=1/mu\n",
    "    # get area\n",
    "    anomalies_count=0\n",
    "    for i,x in enumerate(init_data):\n",
    "        if x<0:\n",
    "            mask[i]=1\n",
    "            anomalies_count+=1\n",
    "        else:\n",
    "            area=np.exp(-para*x)\n",
    "            if area<thershold:\n",
    "                mask[i]=1\n",
    "                anomalies_count+=1\n",
    "    # return a list of all points with 0-1 mask \n",
    "    return {'mask':mask,'count':anomalies_count}"
   ]
  },
  {
   "cell_type": "code",
   "execution_count": 131,
   "metadata": {},
   "outputs": [
    {
     "name": "stdout",
     "output_type": "stream",
     "text": [
      "Total Anomalies in file =  593\n",
      "Total Anomalies Percantage =  5.93 %\n"
     ]
    }
   ],
   "source": [
    "overall_mask=[]\n",
    "alpha=5 # it 5% for 0.05\n",
    "total_anomalies=0\n",
    "count_progress=[0]\n",
    "for i in range(100):\n",
    "    detection_data=get_anomalies(row_no=i,alpha=alpha)\n",
    "    overall_mask.append(detection_data['mask'])\n",
    "    total_anomalies+=detection_data['count']\n",
    "    count_progress.append(total_anomalies)\n",
    "print('Total Anomalies in file = ',total_anomalies)\n",
    "print('Total Anomalies Percantage = ',(100*total_anomalies/10000),'%')"
   ]
  },
  {
   "cell_type": "code",
   "execution_count": 132,
   "metadata": {},
   "outputs": [
    {
     "name": "stdout",
     "output_type": "stream",
     "text": [
      "For my answer this is how anomaly count progresses after each row:\n"
     ]
    },
    {
     "data": {
      "text/plain": [
       "[<matplotlib.lines.Line2D at 0x7fc2f6ead520>]"
      ]
     },
     "execution_count": 132,
     "metadata": {},
     "output_type": "execute_result"
    },
    {
     "data": {
      "image/png": "[encoded data removed]",
      "text/plain": [
       "<Figure size 432x288 with 1 Axes>"
      ]
     },
     "metadata": {
      "needs_background": "light"
     },
     "output_type": "display_data"
    }
   ],
   "source": [
    "print('For my answer this is how anomaly count progresses after each row:')\n",
    "plt.plot(count_progress)"
   ]
  },
  {
   "cell_type": "code",
   "execution_count": 133,
   "metadata": {},
   "outputs": [
    {
     "name": "stdout",
     "output_type": "stream",
     "text": [
      "total answer-sample anomalies >>  501\n",
      "and this is how it does for sample-answer\n"
     ]
    },
    {
     "data": {
      "text/plain": [
       "[<matplotlib.lines.Line2D at 0x7fc2f7f8e3d0>]"
      ]
     },
     "execution_count": 133,
     "metadata": {},
     "output_type": "execute_result"
    },
    {
     "data": {
      "image/png": "[encoded data removed]",
      "text/plain": [
       "<Figure size 432x288 with 1 Axes>"
      ]
     },
     "metadata": {
      "needs_background": "light"
     },
     "output_type": "display_data"
    }
   ],
   "source": [
    "sample=pd.read_table('answer-sample.dat',header=None,sep=' ')\n",
    "sample=sample.iloc[:,0:100]\n",
    "count=0\n",
    "count_progress=[0]\n",
    "for i in range(100):\n",
    "    point_list=list(sample.iloc[i,:])\n",
    "    count+=len([p for p in point_list if p==1])\n",
    "    count_progress.append(count)\n",
    "print('total answer-sample anomalies >> ',count)\n",
    "print('and this is how it does for sample-answer')\n",
    "plt.plot(count_progress)"
   ]
  },
  {
   "cell_type": "code",
   "execution_count": 134,
   "metadata": {},
   "outputs": [],
   "source": [
    "mask_df=pd.DataFrame(overall_mask)\n",
    "mask_df.isnull().sum().sum()\n",
    "mask_df.to_csv('answer-s110.dat',sep=' ',header=None)\n",
    "# seperated by ' ' like answer-sample.dat"
   ]
  }
 ],
 "metadata": {
  "interpreter": {
   "hash": "365d70965140afb04a698773bfdd31483bc82432b779112c2a78b5de7c16d125"
  },
  "kernelspec": {
   "display_name": "Python 3.8.5 64-bit ('base': conda)",
   "language": "python",
   "name": "python3"
  },
  "language_info": {
   "codemirror_mode": {
    "name": "ipython",
    "version": 3
   },
   "file_extension": ".py",
   "mimetype": "text/x-python",
   "name": "python",
   "nbconvert_exporter": "python",
   "pygments_lexer": "ipython3",
   "version": "3.8.5"
  },
  "orig_nbformat": 4
 },
 "nbformat": 4,
 "nbformat_minor": 2
}
