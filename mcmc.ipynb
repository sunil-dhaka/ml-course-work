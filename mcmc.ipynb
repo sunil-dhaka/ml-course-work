{
 "cells": [
  {
   "cell_type": "markdown",
   "metadata": {},
   "source": [
    "# question\n",
    "\n",
    "#### Let’s consider a simple demonstration of MCMC sampling in a setting where conjugacy is actually possible – normal likelihoods with a known population variance, for which the prior is another normal distribution"
   ]
  },
  {
   "cell_type": "code",
   "execution_count": 3,
   "metadata": {},
   "outputs": [
    {
     "name": "stdout",
     "output_type": "stream",
     "text": [
      "Using matplotlib backend: Qt5Agg\n"
     ]
    }
   ],
   "source": [
    "import numpy as np\n",
    "from matplotlib import pyplot as plt\n",
    "%matplotlib"
   ]
  },
  {
   "cell_type": "markdown",
   "metadata": {},
   "source": [
    "# Part(a)\n",
    "\n",
    "#### Write a function to calculate the Bayesian posterior probability given 50 new data samples drawn from a normal distribution with mean 10 and SD 5, assuming a normal prior with mean 25 and s.d. 5. Plot the pdfs of the prior, the likelihood and the posterior distributions. Explain how you derive the likelihood from the data."
   ]
  },
  {
   "cell_type": "markdown",
   "metadata": {},
   "source": [
    "#### generate samples"
   ]
  },
  {
   "cell_type": "code",
   "execution_count": 53,
   "metadata": {},
   "outputs": [],
   "source": [
    "def posterior(n_samples=50,lik_mean=10,lik_sd=5,prior_mean=25,prior_sd=5):\n",
    "    # to reproduce random state is fixed\n",
    "    np.random.seed(1)\n",
    "    samples=np.random.normal(lik_mean,lik_sd,n_samples)\n",
    "   \n",
    "    # formulas derivations for these calc explained in markdowns\n",
    "\n",
    "    post_sd=np.sqrt((lik_sd**2*prior_sd**2)/(lik_sd**2+prior_sd**2))\n",
    "\n",
    "    post_mean=((lik_sd**2)*(prior_mean)+(n_samples*prior_sd**2)*(np.mean(samples)))/((n_samples*prior_sd**2)+lik_sd**2)\n",
    "\n",
    "    return {'post_mean':round(post_mean,2),'post_sd':round(post_sd,3)}"
   ]
  },
  {
   "cell_type": "code",
   "execution_count": 54,
   "metadata": {},
   "outputs": [],
   "source": [
    "post=posterior()"
   ]
  },
  {
   "cell_type": "markdown",
   "metadata": {},
   "source": [
    "### prior-lik-post plots"
   ]
  },
  {
   "cell_type": "code",
   "execution_count": 71,
   "metadata": {},
   "outputs": [],
   "source": [
    "n_samples=200\n",
    "lik_mean=10\n",
    "lik_sd=5\n",
    "prior_mean=25\n",
    "prior_sd=5\n",
    "np.random.seed(1)\n",
    "lik_samples=np.random.normal(lik_mean,lik_sd,n_samples)\n",
    "prior_samples=np.random.normal(prior_mean,prior_sd,n_samples)\n",
    "post_samples=np.random.normal(post['post_mean'],post['post_sd'],n_samples)\n",
    "\n",
    "plt.hist(lik_samples,density=True,alpha=0.3,bins=30)\n",
    "plt.hist(prior_samples,density=True,alpha=0.3,bins=30)\n",
    "plt.hist(post_samples,density=True,alpha=0.3,bins=30)\n",
    "plt.show()"
   ]
  },
  {
   "cell_type": "code",
   "execution_count": 60,
   "metadata": {},
   "outputs": [],
   "source": [
    "from scipy import stats # can we use this library --> i don't think so\n",
    "x=np.linspace(0,40,200)\n",
    "plt.plot(x,stats.norm.pdf(x,10,5),label='lik')\n",
    "plt.plot(x,stats.norm.pdf(x,25,5),label='prior')\n",
    "plt.plot(x,stats.norm.pdf(x,post['post_mean'],post['post_sd']),label='post')\n",
    "plt.axvline(10,label='prior_mean')\n",
    "plt.axvline(post['post_mean'],label='post_mean')\n",
    "plt.legend()\n",
    "plt.show()"
   ]
  },
  {
   "cell_type": "markdown",
   "metadata": {},
   "source": [
    "### likelihood explained[markdown]\n",
    " \n",
    "- posterior derivation calc needs to be shown in markdonws and also explain likelihood derivation as asked"
   ]
  },
  {
   "cell_type": "markdown",
   "metadata": {},
   "source": [
    "# Part(b)\n",
    "\n",
    "#### Implement the Metropolis algorithm from the lecture slides to estimate the posterior distribution given the same prior and data and show that it converges to the analytic posterior by plotting a histogram of samples from the distribution alongside the analytic posterior distribution.  Assume whatever SD (width) you want for the proposal distribution."
   ]
  },
  {
   "cell_type": "code",
   "execution_count": null,
   "metadata": {},
   "outputs": [],
   "source": []
  },
  {
   "cell_type": "markdown",
   "metadata": {},
   "source": [
    "# Part(c)"
   ]
  }
 ],
 "metadata": {
  "interpreter": {
   "hash": "365d70965140afb04a698773bfdd31483bc82432b779112c2a78b5de7c16d125"
  },
  "kernelspec": {
   "display_name": "Python 3.8.5 64-bit ('base': conda)",
   "name": "python3"
  },
  "language_info": {
   "codemirror_mode": {
    "name": "ipython",
    "version": 3
   },
   "file_extension": ".py",
   "mimetype": "text/x-python",
   "name": "python",
   "nbconvert_exporter": "python",
   "pygments_lexer": "ipython3",
   "version": "3.8.5"
  },
  "orig_nbformat": 4
 },
 "nbformat": 4,
 "nbformat_minor": 2
}
