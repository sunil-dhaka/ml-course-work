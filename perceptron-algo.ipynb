{
 "cells": [
  {
   "cell_type": "code",
   "execution_count": 272,
   "metadata": {},
   "outputs": [],
   "source": [
    "import numpy as np\n",
    "import pandas as pd"
   ]
  },
  {
   "cell_type": "markdown",
   "metadata": {},
   "source": [
    "- I don't think we even need pandas\n",
    "- we just could work with 2D array \n",
    "- read text from .txt file and store into a 2D-array"
   ]
  },
  {
   "cell_type": "markdown",
   "metadata": {},
   "source": [
    "## without using pandas read_ tables"
   ]
  },
  {
   "cell_type": "code",
   "execution_count": 273,
   "metadata": {},
   "outputs": [],
   "source": [
    "cols=['variance','skewness','curtosis','entropy-of-image','class']\n",
    "# convert into csv without pandas read_table\n",
    "with open('datasets/data_banknote_authentication.txt') as r:\n",
    "    lines=r.readlines()\n",
    "    csvList=[]\n",
    "    for line in lines:\n",
    "        line=line.strip('\\n').split(',')\n",
    "        lineList=[float(l) for l in line[:-1]]\n",
    "        lineList.append(int(line[-1]))\n",
    "        csvList.append(lineList)\n",
    "data=pd.DataFrame(csvList,columns=cols)"
   ]
  },
  {
   "cell_type": "markdown",
   "metadata": {},
   "source": [
    "## Part(a)\n",
    "#### Code up the perceptron algorithm described on slide 7 of Lecture 15 using the same notation as in the slides.  [10 points]\n",
    "\n",
    "- what does using the same notatoin means"
   ]
  },
  {
   "cell_type": "code",
   "execution_count": 274,
   "metadata": {},
   "outputs": [],
   "source": [
    "np.random.seed(1)\n",
    "'''\n",
    "possible to give x,y in one 2D array then some indexing changes needs to be done\n",
    "input: \n",
    "output: perceptron learned weight vector\n",
    "'''\n",
    "def percep(feature_data,labels,margin=0,learn_rate=1,n_iter=100):\n",
    "    # convert class labels into +1/-1\n",
    "    # 0 --> -1\n",
    "    # 1 --> +1\n",
    "\n",
    "    class_label=[]\n",
    "    for c in labels:\n",
    "        if c==0:\n",
    "            class_label.append(-1)\n",
    "        else:\n",
    "            class_label.append(1)\n",
    "    # print(class_label)\n",
    "    # get feature length and total no of samples\n",
    "    N,d=feature_data.shape\n",
    "\n",
    "    # intialize w\n",
    "    # with w=zeros it get stuck in the for loop\n",
    "    w=np.ones(d)\n",
    "    t=0\n",
    "    # for loop\n",
    "    for i in range(n_iter):\n",
    "        # If `high` is None (the default), then results are from [0, `low`).\n",
    "        '''rand=np.random.randint(N)\n",
    "        curr_x=feature_data[rand]\n",
    "        curr_y=class_label[rand]\n",
    "        if (curr_y*np.dot(w.T,curr_x)<0):\n",
    "            w=w+curr_x*curr_y\n",
    "        else:'''\n",
    "        while(True):\n",
    "            rand=np.random.randint(N)\n",
    "            curr_x=feature_data[rand]\n",
    "            curr_y=class_label[rand]\n",
    "\n",
    "            if (curr_y*np.dot(w.T,curr_x)<margin): # margin =0(default)\n",
    "                w=w+curr_x*curr_y*learn_rate # learn_rate=1(default)\n",
    "                # print(f'mistake -- {w}')\n",
    "                break\n",
    "    return w"
   ]
  },
  {
   "cell_type": "code",
   "execution_count": 275,
   "metadata": {},
   "outputs": [],
   "source": [
    "y=np.array(data['class'])\n",
    "f=np.array(data.drop('class',axis=1))\n",
    "w=percep(f,y,n_iter=1000)"
   ]
  },
  {
   "cell_type": "markdown",
   "metadata": {},
   "source": [
    "## Part(b)\n",
    "\n",
    "#### Write functions to make predictions using the algorithm for the banknotes dataset. Preprocess the dataset to handle missing and anomalous data"
   ]
  },
  {
   "cell_type": "markdown",
   "metadata": {},
   "source": [
    "### read data"
   ]
  },
  {
   "cell_type": "code",
   "execution_count": 276,
   "metadata": {},
   "outputs": [],
   "source": [
    "# easy way to get txt into csv using pandas read_table\n",
    "cols=['variance','skewness','curtosis','entropy-of-image','class']\n",
    "data=pd.read_table('datasets/data_banknote_authentication.txt',sep=',',names=cols)"
   ]
  },
  {
   "cell_type": "markdown",
   "metadata": {},
   "source": [
    "#### handle missing and anomalous data"
   ]
  },
  {
   "cell_type": "code",
   "execution_count": 277,
   "metadata": {},
   "outputs": [
    {
     "data": {
      "text/plain": [
       "variance            0\n",
       "skewness            0\n",
       "curtosis            0\n",
       "entropy-of-image    0\n",
       "class               0\n",
       "dtype: int64"
      ]
     },
     "execution_count": 277,
     "metadata": {},
     "output_type": "execute_result"
    }
   ],
   "source": [
    "data.isnull().sum()"
   ]
  },
  {
   "cell_type": "markdown",
   "metadata": {},
   "source": [
    "- no missing data in banknote dataset"
   ]
  },
  {
   "cell_type": "markdown",
   "metadata": {},
   "source": [
    "- how to detect anomalies\n",
    "    - box plot gives away curtosis and entropy-of-image outliers[25-75]"
   ]
  },
  {
   "cell_type": "code",
   "execution_count": 278,
   "metadata": {},
   "outputs": [
    {
     "data": {
      "text/plain": [
       "<AxesSubplot:>"
      ]
     },
     "execution_count": 278,
     "metadata": {},
     "output_type": "execute_result"
    },
    {
     "data": {
      "image/png": "[encoded data removed]",
      "text/plain": [
       "<Figure size 432x288 with 1 Axes>"
      ]
     },
     "metadata": {
      "needs_background": "light"
     },
     "output_type": "display_data"
    }
   ],
   "source": [
    "data.boxplot()"
   ]
  },
  {
   "cell_type": "code",
   "execution_count": 279,
   "metadata": {},
   "outputs": [
    {
     "data": {
      "text/plain": [
       "array([[<AxesSubplot:title={'center':'curtosis'}, xlabel='[class]'>,\n",
       "        <AxesSubplot:title={'center':'entropy-of-image'}, xlabel='[class]'>],\n",
       "       [<AxesSubplot:title={'center':'skewness'}, xlabel='[class]'>,\n",
       "        <AxesSubplot:title={'center':'variance'}, xlabel='[class]'>]],\n",
       "      dtype=object)"
      ]
     },
     "execution_count": 279,
     "metadata": {},
     "output_type": "execute_result"
    },
    {
     "data": {
      "image/png": "[encoded data removed]",
      "text/plain": [
       "<Figure size 720x720 with 4 Axes>"
      ]
     },
     "metadata": {
      "needs_background": "light"
     },
     "output_type": "display_data"
    }
   ],
   "source": [
    "data.boxplot(by='class',figsize=(10,10))"
   ]
  },
  {
   "cell_type": "markdown",
   "metadata": {},
   "source": [
    "### predict and f1-score func"
   ]
  },
  {
   "cell_type": "code",
   "execution_count": 280,
   "metadata": {},
   "outputs": [],
   "source": [
    "def predict(x,w):\n",
    "    pred=np.dot(w.T,x)\n",
    "    if pred > 0:\n",
    "        return 1\n",
    "    else:\n",
    "        return 0"
   ]
  },
  {
   "cell_type": "code",
   "execution_count": 281,
   "metadata": {},
   "outputs": [],
   "source": [
    "# both inputs are lists\n",
    "def f1_score(y_true,y_pred):\n",
    "    # initiate variables\n",
    "    tp=0\n",
    "    fp=0\n",
    "    fn=0\n",
    "    for i in range(len(y_pred)):\n",
    "        if y_pred[i]==y_true[i] and y_true[i]==1:\n",
    "            tp+=1\n",
    "        elif y_true[i]==1 and y_pred[i]==0:\n",
    "            fn+=1\n",
    "        elif y_true[i]==0 and y_pred[i]==1:\n",
    "            fp+=1\n",
    "    # calculate stats\n",
    "    p=tp/(tp+fp)\n",
    "    r=tp/(tp+fn)\n",
    "    f1=(2*p*r)/(p+r)\n",
    "\n",
    "    return round(f1,3) # round up-to only 3 decimal points"
   ]
  },
  {
   "cell_type": "code",
   "execution_count": 282,
   "metadata": {},
   "outputs": [],
   "source": [
    "y_pred=[predict(p,w) for p in f]"
   ]
  },
  {
   "cell_type": "code",
   "execution_count": 283,
   "metadata": {},
   "outputs": [
    {
     "name": "stdout",
     "output_type": "stream",
     "text": [
      "F1 Score is >> 0.919\n"
     ]
    }
   ],
   "source": [
    "print(f'F1 Score is >> {f1_score(y,y_pred)}')"
   ]
  },
  {
   "cell_type": "markdown",
   "metadata": {},
   "source": [
    "## Part(c)\n",
    "\n",
    "#### Train the algorithm on the dataset using cross-validation and report cross-validated test set error "
   ]
  },
  {
   "cell_type": "code",
   "execution_count": 284,
   "metadata": {},
   "outputs": [],
   "source": [
    "# data is with features and labels\n",
    "# in fact we don't need to give it data; just total no of obeservations should suffice\n",
    "\n",
    "def k_fold_splitter(obs_no,k=10,random_state=1):\n",
    "    \n",
    "    np.random.seed(random_state)\n",
    "\n",
    "    points=list(range(obs_no))\n",
    "    np.random.shuffle(points)\n",
    "\n",
    "    factor=obs_no//k\n",
    "\n",
    "    k_fold_list=list()\n",
    "    # k-1 folds are of equal size\n",
    "    # fold count starts from 0 and goes upto (k-1)\n",
    "    for i in range(k-1):\n",
    "        for j in range(factor):\n",
    "            k_fold_list.append((points[j],i))\n",
    "    \n",
    "    counted_no=len(k_fold_list)\n",
    "    # laskt fold holds everything that is remaining\n",
    "    for i in range(obs_no-len(k_fold_list)):\n",
    "        k_fold_list.append((points[i+counted_no],k-1))\n",
    "    return k_fold_list"
   ]
  },
  {
   "cell_type": "markdown",
   "metadata": {},
   "source": [
    "#### cross validation set f1 scores"
   ]
  },
  {
   "cell_type": "code",
   "execution_count": 285,
   "metadata": {},
   "outputs": [],
   "source": [
    "folds=10\n",
    "split_tuple_list=k_fold_splitter(data.shape[0],k=folds,random_state=10)"
   ]
  },
  {
   "cell_type": "code",
   "execution_count": 293,
   "metadata": {},
   "outputs": [
    {
     "name": "stdout",
     "output_type": "stream",
     "text": [
      "F1 score for fold 1 is 0.93\n",
      "F1 score for fold 2 is 0.948\n",
      "F1 score for fold 3 is 0.939\n",
      "F1 score for fold 4 is 0.938\n",
      "F1 score for fold 5 is 0.948\n",
      "F1 score for fold 6 is 0.966\n",
      "F1 score for fold 7 is 0.914\n",
      "F1 score for fold 8 is 0.948\n",
      "F1 score for fold 9 is 0.948\n",
      "F1 score for fold 10 is 0.916\n",
      "avg F1 score for all folds is 9.395\n"
     ]
    }
   ],
   "source": [
    "f1_list=list()\n",
    "weight_list=list()\n",
    "for i in range(folds):\n",
    "\n",
    "    fold_point_list=[]\n",
    "    test_point_list=[]\n",
    "    for point in split_tuple_list:\n",
    "        if point[1]!=i:\n",
    "            fold_point_list.append(point[0])\n",
    "        else:\n",
    "            test_point_list.append(point[0])\n",
    "    # print(fold_point_list)\n",
    "    # print(len(fold_point_list) ,'||', len(test_point_list))\n",
    "\n",
    "    train_fold_data=data.iloc[fold_point_list,:]\n",
    "    train_y=list(train_fold_data['class'])\n",
    "    train_x=np.array(train_fold_data.drop('class',axis=1))\n",
    "\n",
    "    test_fold_data=data.iloc[test_point_list,:]\n",
    "    test_y=list(test_fold_data['class'])\n",
    "    test_x=np.array(test_fold_data.drop('class',axis=1))\n",
    "\n",
    "    w=percep(train_x,train_y) # with default values\n",
    "    weight_list.append(w)\n",
    "    \n",
    "    y_pred=[predict(new_point,w) for new_point in test_x]\n",
    "\n",
    "    f1=f1_score(test_y,y_pred)\n",
    "    f1_list.append(f1)\n",
    "\n",
    "    print(f'F1 score for fold {str(i+1)} is {f1}')\n"
   ]
  },
  {
   "cell_type": "code",
   "execution_count": 296,
   "metadata": {},
   "outputs": [
    {
     "name": "stdout",
     "output_type": "stream",
     "text": [
      "avg F1 score for all folds is 0.9395\n"
     ]
    }
   ],
   "source": [
    "# The average of your k recorded errors/scores is called the cross-validation error/score and will serve as performance metric for the model\n",
    "print(f'avg F1 score(cross-validation score) for all folds is {sum(f1_list)/folds}')"
   ]
  },
  {
   "cell_type": "markdown",
   "metadata": {},
   "source": [
    "## Part(d)\n",
    "\n",
    "#### Ensure you use a held out validation set and report F1 score on the held out set for your best model"
   ]
  }
 ],
 "metadata": {
  "interpreter": {
   "hash": "365d70965140afb04a698773bfdd31483bc82432b779112c2a78b5de7c16d125"
  },
  "kernelspec": {
   "display_name": "Python 3.8.5 64-bit ('base': conda)",
   "name": "python3"
  },
  "language_info": {
   "codemirror_mode": {
    "name": "ipython",
    "version": 3
   },
   "file_extension": ".py",
   "mimetype": "text/x-python",
   "name": "python",
   "nbconvert_exporter": "python",
   "pygments_lexer": "ipython3",
   "version": "3.8.5"
  },
  "orig_nbformat": 4
 },
 "nbformat": 4,
 "nbformat_minor": 2
}
