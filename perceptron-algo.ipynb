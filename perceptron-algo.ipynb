{
 "cells": [
  {
   "cell_type": "code",
   "execution_count": 1,
   "metadata": {},
   "outputs": [],
   "source": [
    "import numpy as np\n",
    "import pandas as pd"
   ]
  },
  {
   "cell_type": "markdown",
   "metadata": {},
   "source": [
    "- I don't think we even need pandas\n",
    "- we just could work with 2D array \n",
    "- read text from .txt file and store into a 2D-array"
   ]
  },
  {
   "cell_type": "markdown",
   "metadata": {},
   "source": [
    "## without using pandas read_ tables"
   ]
  },
  {
   "cell_type": "code",
   "execution_count": 49,
   "metadata": {},
   "outputs": [],
   "source": [
    "cols=['variance','skewness','curtosis','entropy-of-image','class']\n",
    "# convert into csv without pandas read_table\n",
    "with open('datasets/data_banknote_authentication.txt') as r:\n",
    "    lines=r.readlines()\n",
    "    csvList=[]\n",
    "    for line in lines:\n",
    "        line=line.strip('\\n').split(',')\n",
    "        lineList=[float(l) for l in line[:-1]]\n",
    "        lineList.append(int(line[-1]))\n",
    "        csvList.append(lineList)\n",
    "data=pd.DataFrame(csvList,columns=cols)"
   ]
  },
  {
   "cell_type": "markdown",
   "metadata": {},
   "source": [
    "# read data"
   ]
  },
  {
   "cell_type": "code",
   "execution_count": 51,
   "metadata": {},
   "outputs": [],
   "source": [
    "# easy way to get txt into csv using pandas read_table\n",
    "cols=['variance','skewness','curtosis','entropy-of-image','class']\n",
    "data=pd.read_table('datasets/data_banknote_authentication.txt',sep=',',names=cols)"
   ]
  },
  {
   "cell_type": "markdown",
   "metadata": {},
   "source": [
    "## Part(a)\n",
    "#### Code up the perceptron algorithm described on slide 7 of Lecture 15 using the same notation as in the slides.  [10 points]"
   ]
  },
  {
   "cell_type": "code",
   "execution_count": 135,
   "metadata": {},
   "outputs": [],
   "source": [
    "np.random.seed(1)\n",
    "'''\n",
    "possible to give x,y in one 2D array then some indexing changes needs to be done\n",
    "input: \n",
    "output: perceptron learned weight vector\n",
    "'''\n",
    "def percep(feature_data,labels,margin=0,learn_rate=1,n_iter=100):\n",
    "    # convert class labels into +1/-1\n",
    "    # 0 --> -1\n",
    "    # 1 --> +1\n",
    "\n",
    "    class_label=[]\n",
    "    for c in labels:\n",
    "        if c==0:\n",
    "            class_label.append(-1)\n",
    "        else:\n",
    "            class_label.append(1)\n",
    "    # print(class_label)\n",
    "    # get feature length and total no of samples\n",
    "    N,d=feature_data.shape\n",
    "\n",
    "    # intialize w\n",
    "    # with w=zeros it get stuck in the for loop\n",
    "    w=np.ones(d)\n",
    "    t=0\n",
    "    # for loop\n",
    "    for i in range(n_iter):\n",
    "        # If `high` is None (the default), then results are from [0, `low`).\n",
    "        '''rand=np.random.randint(N)\n",
    "        curr_x=feature_data[rand]\n",
    "        curr_y=class_label[rand]\n",
    "        if (curr_y*np.dot(w.T,curr_x)<0):\n",
    "            w=w+curr_x*curr_y\n",
    "        else:'''\n",
    "        while(True):\n",
    "            rand=np.random.randint(N)\n",
    "            curr_x=feature_data[rand]\n",
    "            curr_y=class_label[rand]\n",
    "\n",
    "            if (curr_y*np.dot(w.T,curr_x)<0):\n",
    "                w=w+curr_x*curr_y\n",
    "                # print(f'mistake -- {w}')\n",
    "                break\n",
    "    return w"
   ]
  },
  {
   "cell_type": "code",
   "execution_count": 136,
   "metadata": {},
   "outputs": [],
   "source": [
    "y=np.array(data['class'])\n",
    "f=np.array(data.drop('class',axis=1))\n",
    "w=percep(f,y)"
   ]
  },
  {
   "cell_type": "markdown",
   "metadata": {},
   "source": [
    "## Part(b)"
   ]
  },
  {
   "cell_type": "markdown",
   "metadata": {},
   "source": [
    "## Part(c)"
   ]
  },
  {
   "cell_type": "markdown",
   "metadata": {},
   "source": [
    "## Part(d)"
   ]
  }
 ],
 "metadata": {
  "interpreter": {
   "hash": "365d70965140afb04a698773bfdd31483bc82432b779112c2a78b5de7c16d125"
  },
  "kernelspec": {
   "display_name": "Python 3.8.5 64-bit ('base': conda)",
   "name": "python3"
  },
  "language_info": {
   "codemirror_mode": {
    "name": "ipython",
    "version": 3
   },
   "file_extension": ".py",
   "mimetype": "text/x-python",
   "name": "python",
   "nbconvert_exporter": "python",
   "pygments_lexer": "ipython3",
   "version": "3.8.5"
  },
  "orig_nbformat": 4
 },
 "nbformat": 4,
 "nbformat_minor": 2
}
